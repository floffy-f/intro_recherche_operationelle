{
 "cells": [
  {
   "cell_type": "markdown",
   "metadata": {},
   "source": [
    "<table>\n",
    "<tr>\n",
    "<td width=15%><img src=\"./img/UGA.png\"></img></td>\n",
    "<td><center><h1>Introduction à la Recherche Opérationelle</h1><br/>M2 Statistique Science des Données (SSD)</center></td>\n",
    "<td width=15%>\n",
    "<a href=\"https://www-ljk.imag.fr/membres/Anatoli.Iouditski/\" style=\"font-size: 16px; font-weight: bold\">Anatoli Juditsky</a><br/>\n",
    "<a href=\"http://www.iutzeler.org\" style=\"font-size: 16px; font-weight: bold\">Franck Iutzeler</a> </td>\n",
    "</tr>\n",
    "</table>"
   ]
  },
  {
   "cell_type": "markdown",
   "metadata": {},
   "source": [
    "<br/><br/>\n",
    "<center><a style=\"font-size: 30pt; font-weight: bold\">TP 2 - Dantzig Selector </a></center>\n",
    "<br/><br/>"
   ]
  },
  {
   "cell_type": "code",
   "execution_count": 54,
   "metadata": {},
   "outputs": [],
   "source": [
    "import cvxpy as cp\n",
    "import numpy as np\n",
    "import pandas as pd\n",
    "import random\n",
    "import matplotlib.pyplot as plt"
   ]
  },
  {
   "cell_type": "markdown",
   "metadata": {},
   "source": [
    "# 1- Problème de régression parcimonieuse et Dantzig Selector\n",
    "\n",
    "On considère le modèle de régression normale\n",
    "$$ y=X\\theta+\\sigma\\xi,\\;\\;\\xi\\sim \\mathcal{N}(0, I_m),$$\n",
    "où  $X\\in \\mathbb{R}^{m\\times n}$ et $y\\in \\mathbb{R}^m$ sont les observables, et $\\theta\\in \\mathbb{R}^n$ est le paramètre inconnu. \n",
    "\n",
    "\n",
    "L'estimateur de $\\theta$ de *``Dantzig Selector''* ([cf.](https://browse.arxiv.org/pdf/math/0506081.pdf) Candes, E., Tao, T. (2007). *The Dantzig selector: Statistical estimation when $p$ is much larger than $n$*. The Annals of Statistics, 2313-2351) peut être utilisé pour estimer $\\theta$ dans le cas d'un modèle surparamétré, quand la dimension $n$ de $\\theta$ est supérieure a la dimension de l'observation $y$.\n",
    "\n",
    "\n",
    "Dans ce cas l'estimateur ${\\theta}_{DS}$  s'écrit comme une solution du probleme d'optimisation\n",
    "$$\\min_{\\theta\\in  \\mathbb{R}^n} \\|\\theta\\|_1,~~~\\;\\mbox{sous contrainte}\\;\\|X^T(X\\theta-y)\\|_\\infty\\leq \\kappa\\sigma,$$\n",
    "où $\\kappa>0$ est un *hyper-paramètre*. \n",
    "\n",
    "\n",
    "La valeur de $\\kappa$, préconisée dans la literature, est $c q_{\\mathcal{N}}\\left(1-{\\alpha\\over 2m}\\right)$, où $\\alpha\\in (0,1)$ est le niveau de risque choisi (par ex. $\\alpha=.05$) et $q_\\mathcal{N}(p)$ est la $p$-quantile de la normale standardisée, et $c=\\max_j\\|[X]_j\\|_2=\\max_j\\sqrt{[X]_j^T[X]_j}$ est la norme maximale de colonne de la matrice $X$.\n",
    "\n",
    "Votre objectif dans cet exercice sera d'implementer l'estimateur ${\\theta}_{DS}$ en utilisant `CVXPY`."
   ]
  },
  {
   "cell_type": "markdown",
   "metadata": {},
   "source": [
    "> **Question:** Vérifier que le problème et les contraintes peuvent se formuler via des [fonctions disponibles](https://www.cvxpy.org/examples/index.html) pour CVXPY."
   ]
  },
  {
   "cell_type": "code",
   "execution_count": 4,
   "metadata": {},
   "outputs": [
    {
     "data": {
      "text/plain": [
       "\u001b[0;31mInit signature:\u001b[0m  \u001b[0mcp\u001b[0m\u001b[0;34m.\u001b[0m\u001b[0mnorm_inf\u001b[0m\u001b[0;34m(\u001b[0m\u001b[0mexpr\u001b[0m\u001b[0;34m,\u001b[0m \u001b[0maxis\u001b[0m\u001b[0;34m:\u001b[0m \u001b[0mOptional\u001b[0m\u001b[0;34m[\u001b[0m\u001b[0mint\u001b[0m\u001b[0;34m]\u001b[0m \u001b[0;34m=\u001b[0m \u001b[0;32mNone\u001b[0m\u001b[0;34m,\u001b[0m \u001b[0mkeepdims\u001b[0m\u001b[0;34m:\u001b[0m \u001b[0mbool\u001b[0m \u001b[0;34m=\u001b[0m \u001b[0;32mFalse\u001b[0m\u001b[0;34m)\u001b[0m \u001b[0;34m->\u001b[0m \u001b[0;32mNone\u001b[0m\u001b[0;34m\u001b[0m\u001b[0;34m\u001b[0m\u001b[0m\n",
       "\u001b[0;31mDocstring:\u001b[0m      An abstract base class for atoms that can be applied along an axis.\n",
       "\u001b[0;31mFile:\u001b[0m           /usr/lib/python3.11/site-packages/cvxpy/atoms/norm_inf.py\n",
       "\u001b[0;31mType:\u001b[0m           type\n",
       "\u001b[0;31mSubclasses:\u001b[0m     "
      ]
     },
     "metadata": {},
     "output_type": "display_data"
    }
   ],
   "source": [
    "? cp.norm_inf"
   ]
  },
  {
   "cell_type": "code",
   "execution_count": 6,
   "metadata": {},
   "outputs": [
    {
     "data": {
      "text/plain": [
       "\u001b[0;31mInit signature:\u001b[0m  \u001b[0mcp\u001b[0m\u001b[0;34m.\u001b[0m\u001b[0mnorm1\u001b[0m\u001b[0;34m(\u001b[0m\u001b[0mexpr\u001b[0m\u001b[0;34m,\u001b[0m \u001b[0maxis\u001b[0m\u001b[0;34m:\u001b[0m \u001b[0mOptional\u001b[0m\u001b[0;34m[\u001b[0m\u001b[0mint\u001b[0m\u001b[0;34m]\u001b[0m \u001b[0;34m=\u001b[0m \u001b[0;32mNone\u001b[0m\u001b[0;34m,\u001b[0m \u001b[0mkeepdims\u001b[0m\u001b[0;34m:\u001b[0m \u001b[0mbool\u001b[0m \u001b[0;34m=\u001b[0m \u001b[0;32mFalse\u001b[0m\u001b[0;34m)\u001b[0m \u001b[0;34m->\u001b[0m \u001b[0;32mNone\u001b[0m\u001b[0;34m\u001b[0m\u001b[0;34m\u001b[0m\u001b[0m\n",
       "\u001b[0;31mDocstring:\u001b[0m      An abstract base class for atoms that can be applied along an axis.\n",
       "\u001b[0;31mFile:\u001b[0m           /usr/lib/python3.11/site-packages/cvxpy/atoms/norm1.py\n",
       "\u001b[0;31mType:\u001b[0m           type\n",
       "\u001b[0;31mSubclasses:\u001b[0m     "
      ]
     },
     "metadata": {},
     "output_type": "display_data"
    }
   ],
   "source": [
    "? cp.norm1"
   ]
  },
  {
   "cell_type": "markdown",
   "metadata": {
    "jp-MarkdownHeadingCollapsed": true
   },
   "source": [
    "<div class=\"correction-box\" style=\"background-color: #4CAF50;color: white;padding: 15px;margin: 10px 0;border-radius: 5px;\">\n",
    "    <h3>Correction:</h3>\n",
    "    <p>\n",
    "        See for example <a style=\"color: black;\" href=\"https://www.cvxpy.org/examples/machine_learning/lasso_regression.html\"/> the lasso toy problem for $\\|\\|\\cdot\\|\\|_1$</a>, or in general the doc of <a style=\"color: black;\" href=\"https://www.cvxpy.org/api_reference/cvxpy.atoms.html\">all the useful functions</a>.\n",
    "    </p>\n",
    "    <p>\n",
    "        Note that the constraint and loss are both non-differentiable!\n",
    "    </p>\n",
    "</div>"
   ]
  },
  {
   "cell_type": "markdown",
   "metadata": {},
   "source": [
    "# 2- Un petit exemple"
   ]
  },
  {
   "cell_type": "code",
   "execution_count": 31,
   "metadata": {},
   "outputs": [],
   "source": [
    "# Exemple jouet\n",
    "n = 5\n",
    "m = 3\n",
    "sigma = 0.1\n",
    "\n",
    "X = np.random.randn(m,n)\n",
    "theta_true = np.array([1,0,0,0,5])\n",
    "xi = np.random.randn(m)\n",
    "y = np.dot(X,theta_true) + sigma*xi\n",
    "\n"
   ]
  },
  {
   "cell_type": "code",
   "execution_count": 32,
   "metadata": {},
   "outputs": [
    {
     "data": {
      "text/plain": [
       "array([[-1.81193407, -0.07103095, -0.84191183,  0.62307177,  0.08580583],\n",
       "       [ 0.63696157,  1.62622653,  0.35399621, -0.96346922, -0.30604226],\n",
       "       [ 2.00613064, -0.20942947, -1.36350016, -0.30140501, -0.54590231]])"
      ]
     },
     "execution_count": 32,
     "metadata": {},
     "output_type": "execute_result"
    }
   ],
   "source": [
    "X"
   ]
  },
  {
   "cell_type": "code",
   "execution_count": 33,
   "metadata": {},
   "outputs": [
    {
     "data": {
      "text/plain": [
       "array([-1.38787947, -0.95048214, -0.70951557])"
      ]
     },
     "execution_count": 33,
     "metadata": {},
     "output_type": "execute_result"
    }
   ],
   "source": [
    "y"
   ]
  },
  {
   "cell_type": "code",
   "execution_count": 34,
   "metadata": {},
   "outputs": [
    {
     "data": {
      "text/plain": [
       "array([1, 0, 0, 0, 5])"
      ]
     },
     "execution_count": 34,
     "metadata": {},
     "output_type": "execute_result"
    }
   ],
   "source": [
    "theta_true"
   ]
  },
  {
   "cell_type": "markdown",
   "metadata": {},
   "source": [
    "> **Question:** Trouver l'estimateur $\\theta_{DS}$ à partir de $X$ et $y$ par résolution du problème d'optimisation via CVXPY avec $\\kappa$ fixé à 0.2."
   ]
  },
  {
   "cell_type": "code",
   "execution_count": 35,
   "metadata": {},
   "outputs": [
    {
     "name": "stdout",
     "output_type": "stream",
     "text": [
      "# optimal #\n",
      "Theta: [ 2.87658626e-01 -9.24103618e-01  1.08185971e+00 -2.83205090e-13\n",
      "  7.19173211e-13]\n"
     ]
    }
   ],
   "source": [
    "def solve_DS(X: np.array, y: np.array, kappa: float=.2, sigma=.1):\n",
    "    assert X.shape[0] == y.shape[0]\n",
    "    theta = cp.Variable(X.shape[1])\n",
    "\n",
    "    L = cp.norm1(theta)\n",
    "    obj = cp.Minimize(L)\n",
    "\n",
    "    residuals = y - X @ theta\n",
    "    constraints = [cp.norm_inf(X.T @ residuals) <= kappa * sigma]\n",
    "\n",
    "    prob = cp.Problem(obj, constraints=constraints)\n",
    "    prob.solve(solver=\"ECOS\")\n",
    "\n",
    "    return prob.status, theta.value, prob.value, residuals.value\n",
    "\n",
    "results = solve_DS(X, y, .2, sigma)\n",
    "print(f\"# {results[0]} #\\nTheta: {results[1]}\")"
   ]
  },
  {
   "cell_type": "markdown",
   "metadata": {},
   "source": [
    "<div class=\"correction-box\" style=\"background-color: #4CAF50;color: white;padding: 15px;margin: 10px 0;border-radius: 5px;\">\n",
    "    <h3>Correction:</h3>\n",
    "    <p>\n",
    "        We do have some sparsity, but notice that the first coefficient is bad...\n",
    "    </p>\n",
    "</div>"
   ]
  },
  {
   "cell_type": "markdown",
   "metadata": {},
   "source": [
    "# 3- Fonction \"Dantzig Selector\"\n",
    "\n",
    "\n",
    "\n",
    "> **Question:** Écrivez une fonction `DSelect` qui fait appel a `CVXPY` pour calculer l'estimation ${\\theta}_{DS}$. \n",
    "\n",
    "Cette fonction doit sortir un tuple avec les elements\n",
    "* `coef`, vecteur des coefficients de regression\n",
    "* `resid`, vecteur $y-X{\\theta}_{DS}$ de résidus\n",
    "* `status`, le statut de sortie du solver\n",
    "\n",
    "L'appel à cette fonction devra être:\n",
    "\n",
    "`DSelect(X, y, sigma = 1, c = 1, verb = False)`\n",
    "\n",
    "où\n",
    "* `X` et `y` sont les observables\n",
    "* `sigma` est une estimation de $\\sigma$\n",
    "* `c` est le paramètre réel tel que la valeur de $\\kappa$ dans {DS} est $ \\kappa=c\\,q_{\\mathcal{N}}\\left(1-{\\alpha\\over 2m}\\right).$"
   ]
  },
  {
   "cell_type": "code",
   "execution_count": 36,
   "metadata": {},
   "outputs": [],
   "source": [
    "import scipy.stats\n",
    "\n",
    "def DSelect(X, y, sigma = 1, c = 1, verb = False):\n",
    "    \"\"\"\n",
    "    Returns theta, the residuals (y - X theta)\n",
    "    \"\"\"\n",
    "    m, n = X.shape\n",
    "     \n",
    "    alpha = 0.05\n",
    "    kappa = c * scipy.stats.norm.ppf(1. - .5 * alpha / m)\n",
    "\n",
    "    #### Done!\n",
    "    sol_status, theta_ds, _, residual = solve_DS(X, y, kappa, sigma)\n",
    "    ####\n",
    "    \n",
    "    return theta_ds, residual, sol_status"
   ]
  },
  {
   "cell_type": "markdown",
   "metadata": {},
   "source": [
    "##  Test quand on connait le *vrai* theta"
   ]
  },
  {
   "cell_type": "code",
   "execution_count": 37,
   "metadata": {},
   "outputs": [],
   "source": [
    "n = 5\n",
    "m = 5\n",
    "X = np.random.randn(m,n)\n",
    "theta_true = np.random.randn(n)\n",
    "sigma = 0.005\n",
    "\n",
    "y = np.dot(X,theta_true) + sigma*np.random.randn(m)"
   ]
  },
  {
   "cell_type": "markdown",
   "metadata": {},
   "source": [
    "Avec la valeur de sigma prise ci-dessus, vous devriez pouvoir appeler votre fonctions comme ci-dessous. "
   ]
  },
  {
   "cell_type": "code",
   "execution_count": 38,
   "metadata": {},
   "outputs": [],
   "source": [
    "f = DSelect(X, y, sigma=sigma)"
   ]
  },
  {
   "cell_type": "markdown",
   "metadata": {},
   "source": [
    "> **Question:** Testez votre fonction sur cet exemple jouet. En particulier, comparez la valeur de `theta_ds` à la vraie valeur `theta_true`."
   ]
  },
  {
   "cell_type": "code",
   "execution_count": 41,
   "metadata": {},
   "outputs": [
    {
     "name": "stdout",
     "output_type": "stream",
     "text": [
      "||theta-true_theta||=0.3168957822182795\n",
      "Residual norm: 0.09476455676201831\n",
      "Theta=[ 2.25136881 -1.79487375  1.94658514 -0.35762823  1.18999507]\n",
      "True theta: [ 2.41957223 -1.7366871   2.07532314 -0.57787675  1.1294808 ]\n"
     ]
    }
   ],
   "source": [
    "print(f\"||theta-true_theta||={np.linalg.norm(f[0] - theta_true)}\\n\"\n",
    "      f\"Residual norm: {np.linalg.norm(f[1])}\\n\"\n",
    "      f\"Theta={f[0]}\\n\"\n",
    "      f\"True theta: {theta_true}\")"
   ]
  },
  {
   "cell_type": "markdown",
   "metadata": {
    "collapsed": true,
    "jupyter": {
     "outputs_hidden": true
    }
   },
   "source": [
    "## Example du papier de Candes/Tao"
   ]
  },
  {
   "cell_type": "code",
   "execution_count": 43,
   "metadata": {},
   "outputs": [],
   "source": [
    "n = 256\n",
    "m = 72\n",
    "S = 8\n",
    "\n",
    "S_set = random.sample(range(n),k=S)\n",
    "\n",
    "X = np.random.randn(m,n)\n",
    "\n",
    "theta_true = np.zeros(n)\n",
    "theta_true[S_set] = np.random.randn(S)\n",
    "\n",
    "sigma = 1/3.0*np.sqrt(S/m)\n",
    "y = np.dot(X,theta_true) + sigma*np.random.randn(m)"
   ]
  },
  {
   "cell_type": "code",
   "execution_count": 44,
   "metadata": {},
   "outputs": [],
   "source": [
    "f = DSelect(X, y, sigma= sigma)"
   ]
  },
  {
   "cell_type": "markdown",
   "metadata": {},
   "source": [
    "> **Question:** Testez votre fonction sur l'exemple du papier. Comparez la valeur de `theta_ds` à la vraie valeur `theta_true`. Essayer de changer `sigma`."
   ]
  },
  {
   "cell_type": "code",
   "execution_count": 57,
   "metadata": {},
   "outputs": [
    {
     "name": "stdout",
     "output_type": "stream",
     "text": [
      "||theta-true_theta||=0.06790886215341929\n",
      "Residual infty norm: 0.09003714671352392\n",
      "Non-zero theta entries: 18\n",
      "For true theta: 8\n"
     ]
    }
   ],
   "source": [
    "print(f\"||theta-true_theta||={np.linalg.norm(f[0] - theta_true)}\\n\"\n",
    "      f\"Residual infty norm: {np.linalg.norm(f[1], float('inf'))}\\n\"\n",
    "      f\"Non-zero theta entries: {(np.abs(f[0]) > 1e-2).sum()}\\n\"\n",
    "      f\"For true theta: {(np.abs(theta_true) > 1e-2).sum()}\")"
   ]
  },
  {
   "cell_type": "markdown",
   "metadata": {},
   "source": [
    "### Support des solutions\n",
    "\n",
    "La valeur cherchée `theta_true` est très parcimonieuse (elle contient beaucoup de zéros). Les seules valeurs non-null sont aux positions suivantes."
   ]
  },
  {
   "cell_type": "code",
   "execution_count": 71,
   "metadata": {},
   "outputs": [
    {
     "data": {
      "text/plain": [
       "[224, 195, 98, 198, 141, 120, 207, 67]"
      ]
     },
     "execution_count": 71,
     "metadata": {},
     "output_type": "execute_result"
    }
   ],
   "source": [
    "S_set"
   ]
  },
  {
   "cell_type": "code",
   "execution_count": 72,
   "metadata": {},
   "outputs": [
    {
     "data": {
      "text/plain": [
       "array([ 0.        ,  0.        ,  0.        ,  0.        ,  0.        ,\n",
       "        0.        ,  0.        ,  0.        ,  0.        ,  0.        ,\n",
       "        0.        ,  0.        ,  0.        ,  0.        ,  0.        ,\n",
       "        0.        ,  0.        ,  0.        ,  0.        ,  0.        ,\n",
       "        0.        ,  0.        ,  0.        ,  0.        ,  0.        ,\n",
       "        0.        ,  0.        ,  0.        ,  0.        ,  0.        ,\n",
       "        0.        ,  0.        ,  0.        ,  0.        ,  0.        ,\n",
       "        0.        ,  0.        ,  0.        ,  0.        ,  0.        ,\n",
       "        0.        ,  0.        ,  0.        ,  0.        ,  0.        ,\n",
       "        0.        ,  0.        ,  0.        ,  0.        ,  0.        ,\n",
       "        0.        ,  0.        ,  0.        ,  0.        ,  0.        ,\n",
       "        0.        ,  0.        ,  0.        ,  0.        ,  0.        ,\n",
       "        0.        ,  0.        ,  0.        ,  0.        ,  0.        ,\n",
       "        0.        ,  0.        , -0.78291813,  0.        ,  0.        ,\n",
       "        0.        ,  0.        ,  0.        ,  0.        ,  0.        ,\n",
       "        0.        ,  0.        ,  0.        ,  0.        ,  0.        ,\n",
       "        0.        ,  0.        ,  0.        ,  0.        ,  0.        ,\n",
       "        0.        ,  0.        ,  0.        ,  0.        ,  0.        ,\n",
       "        0.        ,  0.        ,  0.        ,  0.        ,  0.        ,\n",
       "        0.        ,  0.        ,  0.        , -0.08212095,  0.        ,\n",
       "        0.        ,  0.        ,  0.        ,  0.        ,  0.        ,\n",
       "        0.        ,  0.        ,  0.        ,  0.        ,  0.        ,\n",
       "        0.        ,  0.        ,  0.        ,  0.        ,  0.        ,\n",
       "        0.        ,  0.        ,  0.        ,  0.        ,  0.        ,\n",
       "        0.17258225,  0.        ,  0.        ,  0.        ,  0.        ,\n",
       "        0.        ,  0.        ,  0.        ,  0.        ,  0.        ,\n",
       "        0.        ,  0.        ,  0.        ,  0.        ,  0.        ,\n",
       "        0.        ,  0.        ,  0.        ,  0.        ,  0.        ,\n",
       "        0.        , -1.6278601 ,  0.        ,  0.        ,  0.        ,\n",
       "        0.        ,  0.        ,  0.        ,  0.        ,  0.        ,\n",
       "        0.        ,  0.        ,  0.        ,  0.        ,  0.        ,\n",
       "        0.        ,  0.        ,  0.        ,  0.        ,  0.        ,\n",
       "        0.        ,  0.        ,  0.        ,  0.        ,  0.        ,\n",
       "        0.        ,  0.        ,  0.        ,  0.        ,  0.        ,\n",
       "        0.        ,  0.        ,  0.        ,  0.        ,  0.        ,\n",
       "        0.        ,  0.        ,  0.        ,  0.        ,  0.        ,\n",
       "        0.        ,  0.        ,  0.        ,  0.        ,  0.        ,\n",
       "        0.        ,  0.        ,  0.        ,  0.        ,  0.        ,\n",
       "        0.        ,  0.        ,  0.        ,  0.        ,  0.        ,\n",
       "       -0.10618175,  0.        ,  0.        ,  0.47950764,  0.        ,\n",
       "        0.        ,  0.        ,  0.        ,  0.        ,  0.        ,\n",
       "        0.        ,  0.        , -1.2644975 ,  0.        ,  0.        ,\n",
       "        0.        ,  0.        ,  0.        ,  0.        ,  0.        ,\n",
       "        0.        ,  0.        ,  0.        ,  0.        ,  0.        ,\n",
       "        0.        ,  0.        ,  0.        ,  0.        ,  0.3212798 ,\n",
       "        0.        ,  0.        ,  0.        ,  0.        ,  0.        ,\n",
       "        0.        ,  0.        ,  0.        ,  0.        ,  0.        ,\n",
       "        0.        ,  0.        ,  0.        ,  0.        ,  0.        ,\n",
       "        0.        ,  0.        ,  0.        ,  0.        ,  0.        ,\n",
       "        0.        ,  0.        ,  0.        ,  0.        ,  0.        ,\n",
       "        0.        ,  0.        ,  0.        ,  0.        ,  0.        ,\n",
       "        0.        ])"
      ]
     },
     "execution_count": 72,
     "metadata": {},
     "output_type": "execute_result"
    }
   ],
   "source": [
    "theta_true"
   ]
  },
  {
   "cell_type": "markdown",
   "metadata": {},
   "source": [
    "> **Question:** Comparez le nombre et l'emplacement des zéros dans `theta_ds` à ceux dans `theta_true`. Essayez de changer `c`."
   ]
  },
  {
   "cell_type": "markdown",
   "metadata": {},
   "source": [
    "<div class=\"correction-box\" style=\"background-color: #4CAF50;color: white;padding: 15px;margin: 10px 0;border-radius: 5px;\">\n",
    "    <h3>Correction:</h3>\n",
    "    <p>\n",
    "        By changing $\\sigma$, we restrict the box constraint, so the solver needs to provide more nonzero values to explore the minimum.\n",
    "    </p>\n",
    "</div>"
   ]
  },
  {
   "cell_type": "code",
   "execution_count": 78,
   "metadata": {},
   "outputs": [
    {
     "data": {
      "image/png": "[encoded data removed]",
      "text/plain": [
       "<Figure size 640x480 with 1 Axes>"
      ]
     },
     "metadata": {},
     "output_type": "display_data"
    }
   ],
   "source": [
    "def solve_for_sigma(X, y):\n",
    "    sigmas = np.logspace(-5, 1, base=10)\n",
    "    non_z = [(np.abs(DSelect(X, y, sigma=sigma)[0]) > 1e-2).sum() for sigma in sigmas]\n",
    "    plt.plot(sigmas, non_z, 'k:')\n",
    "    plt.xscale('log')\n",
    "    plt.xlabel(r\"$\\sigma$\")\n",
    "    plt.ylabel(r\"$\\|\\theta\\|_0$\")\n",
    "    plt.yticks(non_z)\n",
    "    plt.title(r\"Evolution of the non-zero entries against $\\sigma$ values\")\n",
    "\n",
    "    # Plot the supposed number of zeroes for the sigma in the paper\n",
    "    sigma_opt = np.sqrt(S / m) / 3.0\n",
    "    plt.scatter([sigma_opt], [8])\n",
    "    plt.plot([sigma_opt, sigma_opt], [0, 8], 'r--')\n",
    "    plt.plot([0, sigma_opt], [8, 8], 'r--')\n",
    "\n",
    "    plt.ylim([0, np.max(non_z)])\n",
    "    plt.show()\n",
    "solve_for_sigma(X, y)"
   ]
  },
  {
   "cell_type": "code",
   "execution_count": 77,
   "metadata": {},
   "outputs": [
    {
     "data": {
      "image/png": "[encoded data removed]",
      "text/plain": [
       "<Figure size 640x480 with 1 Axes>"
      ]
     },
     "metadata": {},
     "output_type": "display_data"
    }
   ],
   "source": [
    "def solve_for_c(X, y):\n",
    "    cs = np.logspace(-2, 2, base=10)\n",
    "    sigma_opt = np.sqrt(S / m) / 3.0\n",
    "    non_z = [(np.abs(DSelect(X, y, sigma=sigma_opt, c=c)[0]) > 1e-2).sum() for c in cs]\n",
    "    plt.plot(cs, non_z, 'k:')\n",
    "    plt.xscale('log')\n",
    "    plt.xlabel(r\"$c$\")\n",
    "    plt.ylabel(r\"$\\|\\theta\\|_0$\")\n",
    "    plt.yticks(non_z)\n",
    "    plt.title(\"Evolution of the non-zero entries against $c$ values\")\n",
    "\n",
    "    # Plot the supposed number of zeroes for the c in the paper\n",
    "    c_opt = np.max(np.linalg.norm(X, axis=0))\n",
    "    plt.scatter([c_opt], [8])\n",
    "    plt.plot([c_opt, c_opt], [0, 8], 'r--')\n",
    "    plt.plot([0, c_opt], [8, 8], 'r--')\n",
    "\n",
    "    plt.ylim([0, np.max(non_z)])\n",
    "    plt.show()\n",
    "solve_for_c(X, y)"
   ]
  },
  {
   "cell_type": "code",
   "execution_count": 73,
   "metadata": {},
   "outputs": [
    {
     "data": {
      "image/png": "[encoded data removed]",
      "text/plain": [
       "<Figure size 640x480 with 1 Axes>"
      ]
     },
     "metadata": {},
     "output_type": "display_data"
    }
   ],
   "source": [
    "plt.plot(theta_true,'ro',label='Vrai theta')\n",
    "plt.plot(f[0],'b*',label='Dantzig Selector')\n",
    "plt.legend();"
   ]
  }
 ],
 "metadata": {
  "kernelspec": {
   "display_name": "Python 3 (ipykernel)",
   "language": "python",
   "name": "python3"
  },
  "language_info": {
   "codemirror_mode": {
    "name": "ipython",
    "version": 3
   },
   "file_extension": ".py",
   "mimetype": "text/x-python",
   "name": "python",
   "nbconvert_exporter": "python",
   "pygments_lexer": "ipython3",
   "version": "3.11.5"
  },
  "varInspector": {
   "cols": {
    "lenName": 16,
    "lenType": 16,
    "lenVar": 40
   },
   "kernels_config": {
    "python": {
     "delete_cmd_postfix": "",
     "delete_cmd_prefix": "del ",
     "library": "var_list.py",
     "varRefreshCmd": "print(var_dic_list())"
    },
    "r": {
     "delete_cmd_postfix": ") ",
     "delete_cmd_prefix": "rm(",
     "library": "var_list.r",
     "varRefreshCmd": "cat(var_dic_list()) "
    }
   },
   "types_to_exclude": [
    "module",
    "function",
    "builtin_function_or_method",
    "instance",
    "_Feature"
   ],
   "window_display": false
  }
 },
 "nbformat": 4,
 "nbformat_minor": 4
}
