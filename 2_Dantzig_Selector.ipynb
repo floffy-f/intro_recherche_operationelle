{
 "cells": [
  {
   "cell_type": "markdown",
   "metadata": {},
   "source": [
    "<table>\n",
    "<tr>\n",
    "<td width=15%><img src=\"./img/UGA.png\"></img></td>\n",
    "<td><center><h1>Introduction à la Recherche Opérationelle</h1><br/>M2 Statistique Science des Données (SSD)</center></td>\n",
    "<td width=15%>\n",
    "<a href=\"https://www-ljk.imag.fr/membres/Anatoli.Iouditski/\" style=\"font-size: 16px; font-weight: bold\">Anatoli Juditsky</a><br/>\n",
    "<a href=\"http://www.iutzeler.org\" style=\"font-size: 16px; font-weight: bold\">Franck Iutzeler</a><br/>\n",
    "Version Py2019 </td>\n",
    "</tr>\n",
    "</table>"
   ]
  },
  {
   "cell_type": "markdown",
   "metadata": {},
   "source": [
    "<br/><br/>\n",
    "<center><a style=\"font-size: 30pt; font-weight: bold\">TP 2 - Dantzig Selector </a></center>\n",
    "<br/><br/>"
   ]
  },
  {
   "cell_type": "markdown",
   "metadata": {},
   "source": [
    "# 1. Problème de régression parcimonieuse et Dantzig Selector\n",
    "\n",
    "On considère le modèle de régression normale\n",
    "$$ y=X\\theta+\\sigma\\xi,\\;\\;\\xi\\sim \\mathcal{N}(0, I_m),$$\n",
    "où  $X\\in \\mathbb{R}^{m\\times n}$ et $y\\in \\mathbb{R}^m$ sont les observables, et $\\theta\\in \\mathbb{R}^n$ est le paramètre inconnu. L'estimateur de $\\theta$ de *``Dantzig Selector''* (cf. Candes, E., Tao, T. (2007). *The Dantzig selector: Statistical estimation when $p$ is much larger than $n$*. The Annals of Statistics, 2313-2351) peut être utilisé pour estimer $\\theta$ dans le cas d'un modèle surparamétré, quand la dimension $n$ de $\\theta$ est supérieure a la dimension de l'observation $y$. Dans ce cas l'estimateur ${\\theta}_{DS}$  s'écrit comme une solution du probleme d'optimisation\n",
    "\n",
    "\n",
    "$${\\theta}_{DS}\\in \\arg\\min_{\\theta\\in  \\mathbb{R}^n} \\left\\{\\|\\theta\\|_1,\\;\\mbox{sous contrainte}\\;\\|X^T(X\\theta-y)\\|_\\infty\\leq \\kappa\\sigma\\right\\},$$\n",
    "où $\\kappa>0$ est un *hyper-paramètre*. La valeur de $\\kappa$, préconisée dans la literature, est $c q_{\\mathcal{N}}\\left(1-{\\alpha\\over 2m}\\right)$, où $\\alpha\\in (0,1)$ est le niveau de risque choisi (e.g., $\\alpha=.05$, etc) et $q_\\mathcal{N}(p)$ est la $p$-quantile de la normale standardisée, et $c=\\max_j\\|[X]_j\\|_2=\\max_j\\sqrt{[X]_j^T[X]_j}$ est la norme maximale de colonne de la matrice $X$.\n",
    "\n",
    "Votre objectif dans cet exercice sera d'implementer l'estimateur ${\\theta}_{DS}$ en utilisant `CVXPY`."
   ]
  },
  {
   "cell_type": "markdown",
   "metadata": {},
   "source": [
    "> **Question:** Vérifier que le problème et les contraintes peuvent se formuler via des [fonctions disponibles](https://www.cvxpy.org/examples/index.html) pour CVXPY."
   ]
  },
  {
   "cell_type": "markdown",
   "metadata": {},
   "source": [
    "# 2. Un exemple"
   ]
  },
  {
   "cell_type": "code",
   "execution_count": null,
   "metadata": {},
   "outputs": [],
   "source": [
    "import cvxpy as cp\n",
    "import numpy as np\n",
    "import pandas as pd"
   ]
  },
  {
   "cell_type": "code",
   "execution_count": null,
   "metadata": {},
   "outputs": [],
   "source": [
    "# Exemple jouet\n",
    "n = 5\n",
    "m = 3\n",
    "sigma = 0.1\n",
    "\n",
    "X = np.random.randn(m,n)\n",
    "theta_true = np.array([1,0,0,0,5])\n",
    "xi = np.random.randn(m)\n",
    "y = np.dot(X,theta_true) + sigma*xi\n",
    "\n"
   ]
  },
  {
   "cell_type": "code",
   "execution_count": null,
   "metadata": {},
   "outputs": [],
   "source": [
    "X"
   ]
  },
  {
   "cell_type": "code",
   "execution_count": null,
   "metadata": {},
   "outputs": [],
   "source": [
    "y"
   ]
  },
  {
   "cell_type": "code",
   "execution_count": null,
   "metadata": {},
   "outputs": [],
   "source": [
    "theta_true"
   ]
  },
  {
   "cell_type": "markdown",
   "metadata": {},
   "source": [
    "> **Question:** Trouver l'estimateur $\\theta_{DS}$ à partir de $X$ et $y$ par résolution du problème d'optimisation via CVXPY avec $\\kappa$ fixé à 0.2 et utiliser le solver ``ECOS``."
   ]
  },
  {
   "cell_type": "code",
   "execution_count": null,
   "metadata": {},
   "outputs": [],
   "source": []
  },
  {
   "cell_type": "markdown",
   "metadata": {},
   "source": [
    "# 3. Fonction \"Dantzig Selector\"\n",
    "\n",
    "\n",
    "\n",
    "> **Question:** Écrivez une fonction `DSelect` qui fait appel a `CVXPY` pour calculer l'estimation ${\\theta}_{DS}$. \n",
    "\n",
    "Cette fonction doit sortir un tuple avec les elements\n",
    "* `coef`, vecteur des coefficients de regression\n",
    "* `resid`, vecteur $y-X{\\theta}_{DS}$ de résidus\n",
    "* `status`, le statut de sortie du solver\n",
    "\n",
    "L'appel à cette fonction devra être:\n",
    "\n",
    "`DSelect(X, y, sigma = 1, c = 1, verb = False)`\n",
    "\n",
    "où\n",
    "* `X` et `y` sont les observables\n",
    "* `sigma` est une estimation de $\\sigma$\n",
    "* `c` est le paramètre réel tel que la valeur de $\\kappa$ dans {DS} est $ \\kappa=c\\,q_{\\mathcal{N}}\\left(1-{\\alpha\\over 2m}\\right).$"
   ]
  },
  {
   "cell_type": "code",
   "execution_count": null,
   "metadata": {},
   "outputs": [],
   "source": [
    "import scipy.stats\n",
    "\n",
    "def DSelect(X, y, sigma = 1, c = 1, verb = False):\n",
    "    \n",
    "\n",
    "    m,n = X.shape\n",
    "     \n",
    "    alpha = 0.05\n",
    "    kappa = c*scipy.stats.norm.ppf(1-alpha/m)\n",
    "\n",
    "    #### TODO\n",
    "    \n",
    "    return theta_ds,residual,sol_status"
   ]
  },
  {
   "cell_type": "markdown",
   "metadata": {},
   "source": [
    "> **Question:** Testez votre fonction sur les deux exemples ci-dessous"
   ]
  },
  {
   "cell_type": "markdown",
   "metadata": {},
   "source": [
    "### a.  Test quand on connait le *vrai* theta"
   ]
  },
  {
   "cell_type": "code",
   "execution_count": null,
   "metadata": {},
   "outputs": [],
   "source": [
    "n = 5\n",
    "m = 5\n",
    "X = np.random.randn(m,n)\n",
    "theta_true = np.random.randn(n)\n",
    "sigma = 0.005\n",
    "\n",
    "y = np.dot(X,theta_true) + sigma*np.random.randn(m)"
   ]
  },
  {
   "cell_type": "code",
   "execution_count": null,
   "metadata": {},
   "outputs": [],
   "source": [
    "f = DSelect(X, y, sigma=sigma)\n",
    "f"
   ]
  },
  {
   "cell_type": "code",
   "execution_count": null,
   "metadata": {},
   "outputs": [],
   "source": [
    "print(\"True \\t Dantzig selector\")\n",
    "for i in range(len(theta_true)):\n",
    "    print('{:6.3f} \\t {:6.3f}'.format(theta_true[i],f[0][i]))"
   ]
  },
  {
   "cell_type": "markdown",
   "metadata": {
    "collapsed": true
   },
   "source": [
    "### b. Example du papier de Candes/Tao"
   ]
  },
  {
   "cell_type": "code",
   "execution_count": 7,
   "metadata": {},
   "outputs": [],
   "source": [
    "import random\n",
    "\n",
    "n = 256\n",
    "m = 72\n",
    "S = 8\n",
    "\n",
    "S_set = random.sample(range(n),k=S)\n",
    "\n",
    "X = np.random.randn(m,n)\n",
    "\n",
    "beta = np.zeros(n)\n",
    "beta[S_set] = np.random.randn(S)\n",
    "\n",
    "sigma = 1/3.0*np.sqrt(S/m)\n",
    "y = np.dot(X,beta) + sigma*np.random.randn(m)"
   ]
  },
  {
   "cell_type": "code",
   "execution_count": null,
   "metadata": {},
   "outputs": [],
   "source": [
    "f = DSelect(X, y, sigma= sigma)"
   ]
  },
  {
   "cell_type": "code",
   "execution_count": null,
   "metadata": {},
   "outputs": [],
   "source": [
    "S_set"
   ]
  },
  {
   "cell_type": "code",
   "execution_count": null,
   "metadata": {},
   "outputs": [],
   "source": [
    "import matplotlib.pyplot as plt\n",
    "\n",
    "plt.plot(beta,'ro')\n",
    "plt.plot(f[0],'b*')"
   ]
  }
 ],
 "metadata": {
  "kernelspec": {
   "display_name": "Python 3",
   "language": "python",
   "name": "python3"
  },
  "language_info": {
   "codemirror_mode": {
    "name": "ipython",
    "version": 3
   },
   "file_extension": ".py",
   "mimetype": "text/x-python",
   "name": "python",
   "nbconvert_exporter": "python",
   "pygments_lexer": "ipython3",
   "version": "3.7.3"
  },
  "varInspector": {
   "cols": {
    "lenName": 16,
    "lenType": 16,
    "lenVar": 40
   },
   "kernels_config": {
    "python": {
     "delete_cmd_postfix": "",
     "delete_cmd_prefix": "del ",
     "library": "var_list.py",
     "varRefreshCmd": "print(var_dic_list())"
    },
    "r": {
     "delete_cmd_postfix": ") ",
     "delete_cmd_prefix": "rm(",
     "library": "var_list.r",
     "varRefreshCmd": "cat(var_dic_list()) "
    }
   },
   "types_to_exclude": [
    "module",
    "function",
    "builtin_function_or_method",
    "instance",
    "_Feature"
   ],
   "window_display": false
  }
 },
 "nbformat": 4,
 "nbformat_minor": 1
}
