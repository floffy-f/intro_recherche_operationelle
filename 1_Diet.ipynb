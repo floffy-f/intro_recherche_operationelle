{
 "cells": [
  {
   "cell_type": "markdown",
   "metadata": {},
   "source": [
    "<table>\n",
    "<tr>\n",
    "<td width=15%><img src=\"./img/UGA.png\"></img></td>\n",
    "<td><center><h1>Introduction à la Recherche Opérationelle</h1><br/>M2 Statistique Science des Données (SSD)</center></td>\n",
    "<td width=15%>\n",
    "<a href=\"https://www-ljk.imag.fr/membres/Anatoli.Iouditski/\" style=\"font-size: 16px; font-weight: bold\">Anatoli Juditsky</a><br/>\n",
    "<a href=\"http://www.iutzeler.org\" style=\"font-size: 16px; font-weight: bold\">Franck Iutzeler</a><br/></td>\n",
    "</tr>\n",
    "</table>"
   ]
  },
  {
   "cell_type": "markdown",
   "metadata": {},
   "source": [
    "<br/><br/>\n",
    "<center><a style=\"font-size: 30pt; font-weight: bold\">TP 1 - Planification de Regime </a></center>\n",
    "<br/><br/>"
   ]
  },
  {
   "cell_type": "markdown",
   "metadata": {},
   "source": [
    "# 1- Récupération des données\n",
    "\n",
    "## Menu"
   ]
  },
  {
   "cell_type": "code",
   "execution_count": 186,
   "metadata": {},
   "outputs": [],
   "source": [
    "import cvxpy as cp\n",
    "import pandas as pd\n",
    "import numpy as np\n",
    "import matplotlib.pyplot as plt\n",
    "from typing import Optional\n",
    "from itertools import product"
   ]
  },
  {
   "cell_type": "code",
   "execution_count": 2,
   "metadata": {},
   "outputs": [],
   "source": [
    "foods = pd.read_csv(\"data/food.dat\",sep='\\t')\n",
    "n,p = foods.shape "
   ]
  },
  {
   "cell_type": "code",
   "execution_count": 113,
   "metadata": {},
   "outputs": [],
   "source": [
    "def find_n_best_samples(list: np.array, sortorder: np.array, n: int):\n",
    "    return list[sortorder][-n:]\n",
    "\n",
    "def pretty_print_results(status: str, x: Optional[np.array], L: float, n_samples: int=5):\n",
    "    print(\"Status:\", status)\n",
    "\n",
    "    if x is not None:\n",
    "        fig, ax = plt.subplots()\n",
    "\n",
    "        sorted = np.argsort(x)\n",
    "        selected = find_n_best_samples(x, sorted, n_samples)\n",
    "        ax.bar(list(map(lambda label: label if len(label) < 8 else label[:6]+'..', find_n_best_samples(foods[\"Food\"].values, sorted, n_samples))), selected)\n",
    "        ax.tick_params(axis='x', labelrotation=80)\n",
    "\n",
    "        fig.suptitle(f\"{n_samples} most represented food items\")\n",
    "        plt.show()\n",
    "    else:\n",
    "        print(f\"Convergence issues, L(x*)={L}\")"
   ]
  },
  {
   "cell_type": "markdown",
   "metadata": {},
   "source": [
    "Le tableau `foods` contient tous les aliments présent à la carte d'un restaurant avec leurs informations nutritionelles."
   ]
  },
  {
   "cell_type": "code",
   "execution_count": 3,
   "metadata": {},
   "outputs": [
    {
     "data": {
      "text/html": [
       "<div>\n",
       "<style scoped>\n",
       "    .dataframe tbody tr th:only-of-type {\n",
       "        vertical-align: middle;\n",
       "    }\n",
       "\n",
       "    .dataframe tbody tr th {\n",
       "        vertical-align: top;\n",
       "    }\n",
       "\n",
       "    .dataframe thead th {\n",
       "        text-align: right;\n",
       "    }\n",
       "</style>\n",
       "<table border=\"1\" class=\"dataframe\">\n",
       "  <thead>\n",
       "    <tr style=\"text-align: right;\">\n",
       "      <th></th>\n",
       "      <th>Food</th>\n",
       "      <th>Cal</th>\n",
       "      <th>CalFat</th>\n",
       "      <th>Fat</th>\n",
       "      <th>SatFat</th>\n",
       "      <th>Chol</th>\n",
       "      <th>Sodium</th>\n",
       "      <th>Carbo</th>\n",
       "      <th>Protein</th>\n",
       "      <th>VitA</th>\n",
       "      <th>VitC</th>\n",
       "      <th>Calcium</th>\n",
       "      <th>Iron</th>\n",
       "    </tr>\n",
       "  </thead>\n",
       "  <tbody>\n",
       "    <tr>\n",
       "      <th>0</th>\n",
       "      <td>1%_Low_Fat_Milk_Jug 1_carton_(236_ml)         ...</td>\n",
       "      <td>100</td>\n",
       "      <td>20</td>\n",
       "      <td>2</td>\n",
       "      <td>1</td>\n",
       "      <td>10</td>\n",
       "      <td>125</td>\n",
       "      <td>12</td>\n",
       "      <td>8</td>\n",
       "      <td>10</td>\n",
       "      <td>4</td>\n",
       "      <td>30</td>\n",
       "      <td>0</td>\n",
       "    </tr>\n",
       "    <tr>\n",
       "      <th>1</th>\n",
       "      <td>Apple_Slices 1.2_oz_(34_g)                    ...</td>\n",
       "      <td>15</td>\n",
       "      <td>0</td>\n",
       "      <td>0</td>\n",
       "      <td>0</td>\n",
       "      <td>0</td>\n",
       "      <td>0</td>\n",
       "      <td>4</td>\n",
       "      <td>0</td>\n",
       "      <td>0</td>\n",
       "      <td>160</td>\n",
       "      <td>2</td>\n",
       "      <td>0</td>\n",
       "    </tr>\n",
       "    <tr>\n",
       "      <th>2</th>\n",
       "      <td>BBQ_Ranch_Burger 4.1_oz_(116_g)               ...</td>\n",
       "      <td>350</td>\n",
       "      <td>140</td>\n",
       "      <td>16</td>\n",
       "      <td>6</td>\n",
       "      <td>45</td>\n",
       "      <td>680</td>\n",
       "      <td>37</td>\n",
       "      <td>16</td>\n",
       "      <td>4</td>\n",
       "      <td>0</td>\n",
       "      <td>20</td>\n",
       "      <td>15</td>\n",
       "    </tr>\n",
       "    <tr>\n",
       "      <th>3</th>\n",
       "      <td>Bacon,_Egg_&amp;_Cheese_Bagel 7_oz_(199_g)        ...</td>\n",
       "      <td>630</td>\n",
       "      <td>290</td>\n",
       "      <td>32</td>\n",
       "      <td>11</td>\n",
       "      <td>275</td>\n",
       "      <td>1490</td>\n",
       "      <td>57</td>\n",
       "      <td>30</td>\n",
       "      <td>20</td>\n",
       "      <td>15</td>\n",
       "      <td>20</td>\n",
       "      <td>20</td>\n",
       "    </tr>\n",
       "    <tr>\n",
       "      <th>4</th>\n",
       "      <td>Bacon,_Egg_&amp;_Cheese_Bagel_with_Egg_Whites 7.2_...</td>\n",
       "      <td>580</td>\n",
       "      <td>230</td>\n",
       "      <td>26</td>\n",
       "      <td>9</td>\n",
       "      <td>60</td>\n",
       "      <td>1490</td>\n",
       "      <td>55</td>\n",
       "      <td>30</td>\n",
       "      <td>10</td>\n",
       "      <td>15</td>\n",
       "      <td>20</td>\n",
       "      <td>15</td>\n",
       "    </tr>\n",
       "    <tr>\n",
       "      <th>...</th>\n",
       "      <td>...</td>\n",
       "      <td>...</td>\n",
       "      <td>...</td>\n",
       "      <td>...</td>\n",
       "      <td>...</td>\n",
       "      <td>...</td>\n",
       "      <td>...</td>\n",
       "      <td>...</td>\n",
       "      <td>...</td>\n",
       "      <td>...</td>\n",
       "      <td>...</td>\n",
       "      <td>...</td>\n",
       "      <td>...</td>\n",
       "    </tr>\n",
       "    <tr>\n",
       "      <th>300</th>\n",
       "      <td>Vanilla_McCafe_Shake_(12_fl_oz_cup) 12_fl_oz  ...</td>\n",
       "      <td>530</td>\n",
       "      <td>140</td>\n",
       "      <td>15</td>\n",
       "      <td>10</td>\n",
       "      <td>60</td>\n",
       "      <td>160</td>\n",
       "      <td>86</td>\n",
       "      <td>11</td>\n",
       "      <td>20</td>\n",
       "      <td>0</td>\n",
       "      <td>40</td>\n",
       "      <td>0</td>\n",
       "    </tr>\n",
       "    <tr>\n",
       "      <th>301</th>\n",
       "      <td>Vanilla_McCafe_Shake_(16_fl_oz_cup) 16_fl_oz  ...</td>\n",
       "      <td>660</td>\n",
       "      <td>170</td>\n",
       "      <td>19</td>\n",
       "      <td>12</td>\n",
       "      <td>75</td>\n",
       "      <td>200</td>\n",
       "      <td>109</td>\n",
       "      <td>14</td>\n",
       "      <td>25</td>\n",
       "      <td>0</td>\n",
       "      <td>50</td>\n",
       "      <td>0</td>\n",
       "    </tr>\n",
       "    <tr>\n",
       "      <th>302</th>\n",
       "      <td>Vanilla_McCafe_Shake_(22_fl_oz_cup) 22_fl_oz  ...</td>\n",
       "      <td>820</td>\n",
       "      <td>210</td>\n",
       "      <td>23</td>\n",
       "      <td>15</td>\n",
       "      <td>90</td>\n",
       "      <td>260</td>\n",
       "      <td>135</td>\n",
       "      <td>18</td>\n",
       "      <td>30</td>\n",
       "      <td>0</td>\n",
       "      <td>60</td>\n",
       "      <td>0</td>\n",
       "    </tr>\n",
       "    <tr>\n",
       "      <th>303</th>\n",
       "      <td>Vanilla_Reduced_Fat_Ice_Cream_Cone 3.7_oz_(105...</td>\n",
       "      <td>170</td>\n",
       "      <td>40</td>\n",
       "      <td>4</td>\n",
       "      <td>3</td>\n",
       "      <td>15</td>\n",
       "      <td>70</td>\n",
       "      <td>27</td>\n",
       "      <td>5</td>\n",
       "      <td>6</td>\n",
       "      <td>0</td>\n",
       "      <td>15</td>\n",
       "      <td>2</td>\n",
       "    </tr>\n",
       "    <tr>\n",
       "      <th>304</th>\n",
       "      <td>Whipped_Margarine_(1_pat) 1_pkg_(6_g)         ...</td>\n",
       "      <td>40</td>\n",
       "      <td>40</td>\n",
       "      <td>4</td>\n",
       "      <td>1</td>\n",
       "      <td>0</td>\n",
       "      <td>55</td>\n",
       "      <td>0</td>\n",
       "      <td>0</td>\n",
       "      <td>4</td>\n",
       "      <td>0</td>\n",
       "      <td>0</td>\n",
       "      <td>0</td>\n",
       "    </tr>\n",
       "  </tbody>\n",
       "</table>\n",
       "<p>305 rows × 13 columns</p>\n",
       "</div>"
      ],
      "text/plain": [
       "                                                  Food  Cal  CalFat  Fat  \\\n",
       "0    1%_Low_Fat_Milk_Jug 1_carton_(236_ml)         ...  100      20    2   \n",
       "1    Apple_Slices 1.2_oz_(34_g)                    ...   15       0    0   \n",
       "2    BBQ_Ranch_Burger 4.1_oz_(116_g)               ...  350     140   16   \n",
       "3    Bacon,_Egg_&_Cheese_Bagel 7_oz_(199_g)        ...  630     290   32   \n",
       "4    Bacon,_Egg_&_Cheese_Bagel_with_Egg_Whites 7.2_...  580     230   26   \n",
       "..                                                 ...  ...     ...  ...   \n",
       "300  Vanilla_McCafe_Shake_(12_fl_oz_cup) 12_fl_oz  ...  530     140   15   \n",
       "301  Vanilla_McCafe_Shake_(16_fl_oz_cup) 16_fl_oz  ...  660     170   19   \n",
       "302  Vanilla_McCafe_Shake_(22_fl_oz_cup) 22_fl_oz  ...  820     210   23   \n",
       "303  Vanilla_Reduced_Fat_Ice_Cream_Cone 3.7_oz_(105...  170      40    4   \n",
       "304  Whipped_Margarine_(1_pat) 1_pkg_(6_g)         ...   40      40    4   \n",
       "\n",
       "     SatFat  Chol  Sodium  Carbo  Protein  VitA  VitC  Calcium  Iron  \n",
       "0         1    10     125     12        8    10     4       30     0  \n",
       "1         0     0       0      4        0     0   160        2     0  \n",
       "2         6    45     680     37       16     4     0       20    15  \n",
       "3        11   275    1490     57       30    20    15       20    20  \n",
       "4         9    60    1490     55       30    10    15       20    15  \n",
       "..      ...   ...     ...    ...      ...   ...   ...      ...   ...  \n",
       "300      10    60     160     86       11    20     0       40     0  \n",
       "301      12    75     200    109       14    25     0       50     0  \n",
       "302      15    90     260    135       18    30     0       60     0  \n",
       "303       3    15      70     27        5     6     0       15     2  \n",
       "304       1     0      55      0        0     4     0        0     0  \n",
       "\n",
       "[305 rows x 13 columns]"
      ]
     },
     "execution_count": 3,
     "metadata": {},
     "output_type": "execute_result"
    }
   ],
   "source": [
    "foods"
   ]
  },
  {
   "cell_type": "code",
   "execution_count": 4,
   "metadata": {},
   "outputs": [
    {
     "data": {
      "text/plain": [
       "305"
      ]
     },
     "execution_count": 4,
     "metadata": {},
     "output_type": "execute_result"
    }
   ],
   "source": [
    "n"
   ]
  },
  {
   "cell_type": "markdown",
   "metadata": {},
   "source": [
    "## Alimentation idéale en termes de nutriments"
   ]
  },
  {
   "cell_type": "code",
   "execution_count": 5,
   "metadata": {},
   "outputs": [],
   "source": [
    "nutr = pd.read_csv(\"data/nutr_ideal.dat\",sep=' ')"
   ]
  },
  {
   "cell_type": "markdown",
   "metadata": {},
   "source": [
    "La tableau `nutr` contient les valeurs pour une alimentation *optimale* en terme de nutriments."
   ]
  },
  {
   "cell_type": "code",
   "execution_count": 6,
   "metadata": {},
   "outputs": [
    {
     "data": {
      "text/html": [
       "<div>\n",
       "<style scoped>\n",
       "    .dataframe tbody tr th:only-of-type {\n",
       "        vertical-align: middle;\n",
       "    }\n",
       "\n",
       "    .dataframe tbody tr th {\n",
       "        vertical-align: top;\n",
       "    }\n",
       "\n",
       "    .dataframe thead th {\n",
       "        text-align: right;\n",
       "    }\n",
       "</style>\n",
       "<table border=\"1\" class=\"dataframe\">\n",
       "  <thead>\n",
       "    <tr style=\"text-align: right;\">\n",
       "      <th></th>\n",
       "      <th>CalFat</th>\n",
       "      <th>Fat</th>\n",
       "      <th>SatFat</th>\n",
       "      <th>Chol</th>\n",
       "      <th>Sodium</th>\n",
       "      <th>Carbo</th>\n",
       "      <th>Protein</th>\n",
       "      <th>VitA</th>\n",
       "      <th>VitC</th>\n",
       "      <th>Calcium</th>\n",
       "      <th>Iron</th>\n",
       "    </tr>\n",
       "  </thead>\n",
       "  <tbody>\n",
       "    <tr>\n",
       "      <th>0</th>\n",
       "      <td>600</td>\n",
       "      <td>65</td>\n",
       "      <td>20</td>\n",
       "      <td>300</td>\n",
       "      <td>2400</td>\n",
       "      <td>300</td>\n",
       "      <td>50</td>\n",
       "      <td>100</td>\n",
       "      <td>100</td>\n",
       "      <td>100</td>\n",
       "      <td>100</td>\n",
       "    </tr>\n",
       "  </tbody>\n",
       "</table>\n",
       "</div>"
      ],
      "text/plain": [
       "   CalFat  Fat  SatFat  Chol  Sodium  Carbo  Protein  VitA  VitC  Calcium  \\\n",
       "0     600   65      20   300    2400    300       50   100   100      100   \n",
       "\n",
       "   Iron  \n",
       "0   100  "
      ]
     },
     "execution_count": 6,
     "metadata": {},
     "output_type": "execute_result"
    }
   ],
   "source": [
    "nutr"
   ]
  },
  {
   "cell_type": "markdown",
   "metadata": {},
   "source": [
    "# 2- Trouver un régime optimal\n",
    "\n",
    "## Combinaisons pour une alimentation pauvre en calories\n",
    "\n",
    "Pour commencer, nous allons essayer de trouver une combinaison $x\\in\\mathbb{R}^n$ des aliments ($x_i$ correspondant à la quantité d'aliment $i$ prise) qui minimise le total de calories sous contrainte de rester idéal vis à vis des *nutriments* (CalFat, Fat, VitA, etc.)"
   ]
  },
  {
   "cell_type": "markdown",
   "metadata": {},
   "source": [
    "> **Question:** Formaliser et résoudre le problème décrit ci-dessus. Qu'observez-vous sur la solution?"
   ]
  },
  {
   "cell_type": "markdown",
   "metadata": {},
   "source": [
    "* Fonction objective linéaire à minimiser: $c^\\mathrm{T}x$ où $c$ contient les calories par aliment"
   ]
  },
  {
   "cell_type": "code",
   "execution_count": 7,
   "metadata": {},
   "outputs": [
    {
     "name": "stdout",
     "output_type": "stream",
     "text": [
      "Shape of c vector: c.shape=(305,)\n"
     ]
    }
   ],
   "source": [
    "c = foods[\"Cal\"].values\n",
    "print(f\"Shape of c vector: {c.shape=}\")"
   ]
  },
  {
   "cell_type": "code",
   "execution_count": 12,
   "metadata": {},
   "outputs": [],
   "source": [
    "def make_linear_loss(calories: np.array, n: int):\n",
    "    \"\"\"\n",
    "    Returns the loss L(x), and its variable x, as cvxpy objects.\n",
    "    \"\"\"\n",
    "    assert n == calories.shape[0], \"Please correct the shape of the calories vector c\"\n",
    "    x = cp.Variable(n) # One food item amount by food type\n",
    "    c = calories.squeeze()\n",
    "    L = c.T @ x\n",
    "    return L, x"
   ]
  },
  {
   "cell_type": "code",
   "execution_count": 13,
   "metadata": {},
   "outputs": [],
   "source": [
    "def solve_simple_linear_pbm(calories: np.array, n: int):\n",
    "    \"\"\"\n",
    "    The problem is to minimize c@x, no constraints yet\n",
    "    Returns:\n",
    "        * The solver's final state\n",
    "        * The problem's sol° x*\n",
    "        * The loss final value L(x*)\n",
    "    \"\"\"\n",
    "    L, x = make_linear_loss(calories, n)\n",
    "    obj = cp.Minimize(L)\n",
    "    prob = cp.Problem(obj)\n",
    "    prob.solve()\n",
    "    return prob.status, x.value, prob.value"
   ]
  },
  {
   "cell_type": "code",
   "execution_count": 44,
   "metadata": {},
   "outputs": [
    {
     "name": "stdout",
     "output_type": "stream",
     "text": [
      "Status: unbounded\n",
      "Convergence issues, L(x*)=-inf\n"
     ]
    }
   ],
   "source": [
    "pretty_print_results(*solve_simple_linear_pbm(c, n))"
   ]
  },
  {
   "cell_type": "markdown",
   "metadata": {},
   "source": [
    "<div class=\"correction-box\" style=\"background-color: #4CAF50;color: white;padding: 15px;margin: 10px 0;border-radius: 5px;\">\n",
    "    <h3>Correction:</h3>\n",
    "    <p>\n",
    "        The problem is \"unbounded\". $\\vec{x}$ contains $\\texttt{None}$, and $\\mathcal{L}(\\vec{x})$ diverged to $-\\infty$.\n",
    "        It means that we <b>lack some constraints</b>!\n",
    "    </p>\n",
    "</div>"
   ]
  },
  {
   "cell_type": "markdown",
   "metadata": {},
   "source": [
    "* Contrainte à vérifier: $x$ est positif (par de quantités négatives d'aliments) et $Ax=b$ où $A$ contient les valeurs des nutriments par aliment et $b$ contient les valeurs idéales"
   ]
  },
  {
   "cell_type": "code",
   "execution_count": 20,
   "metadata": {},
   "outputs": [],
   "source": [
    "A = foods.iloc[:, 2:].values.T\n",
    "b = nutr.values.squeeze()"
   ]
  },
  {
   "cell_type": "code",
   "execution_count": 30,
   "metadata": {},
   "outputs": [],
   "source": [
    "def def_positivity_contraint(x: cp.Variable):\n",
    "    constraint = (x >= 0)\n",
    "    return constraint\n",
    "\n",
    "def def_naive_constraints(x: cp.Variable, nutrients: np.array, recomendations: np.array):\n",
    "    \"\"\"\n",
    "    Builds the two constraints x>=0 and Ax=b \n",
    "    \"\"\"\n",
    "    A = nutrients\n",
    "    b = recomendations\n",
    "    assert A.shape[0] == b.shape[0] and A.shape[1] == x.shape[0] \n",
    "\n",
    "    constraint1 = def_positivity_contraint(x)\n",
    "    constraint2 = (A @ x == b)\n",
    "    return [constraint1, constraint2]"
   ]
  },
  {
   "cell_type": "markdown",
   "metadata": {},
   "source": [
    "* Resolution par CVXPY\n",
    "\n",
    "Attention, utilisez le Solver \"ECOS\" \n",
    "\n",
    "        prob.solve(verbose=True,solver=\"ECOS\")\n",
    "        \n",
    "le solveur par défaut peut donner de fausses informations..."
   ]
  },
  {
   "cell_type": "code",
   "execution_count": 31,
   "metadata": {},
   "outputs": [],
   "source": [
    "def solve_naive_constraint_pbm(calories: np.array, n: int, nutrients: np.array, recomendations: np.array):\n",
    "    \"\"\"\n",
    "    The problem is to minimize c@x, s.t. x>=0, Ax=b\n",
    "    Returns:\n",
    "        * The solver's final state\n",
    "        * The problem's sol° x*\n",
    "        * The loss final value L(x*)\n",
    "    \"\"\"\n",
    "    L, x = make_linear_loss(calories, n)\n",
    "    obj = cp.Minimize(L)\n",
    "\n",
    "    constraints = def_naive_constraints(x, nutrients, recomendations)\n",
    "    prob = cp.Problem(obj, constraints=constraints)\n",
    "    prob.solve(solver=\"ECOS\")\n",
    "    return prob.status, x.value, prob.value"
   ]
  },
  {
   "cell_type": "code",
   "execution_count": 45,
   "metadata": {},
   "outputs": [
    {
     "name": "stdout",
     "output_type": "stream",
     "text": [
      "Status: infeasible\n",
      "Convergence issues, L(x*)=inf\n"
     ]
    }
   ],
   "source": [
    "pretty_print_results(*solve_naive_constraint_pbm(c, n, A, b))"
   ]
  },
  {
   "cell_type": "markdown",
   "metadata": {},
   "source": [
    "<div class=\"correction-box\" style=\"background-color: #4CAF50;color: white;padding: 15px;margin: 10px 0;border-radius: 5px;\">\n",
    "    <h3>Correction:</h3>\n",
    "    <p>\n",
    "        The problem is \"infeasible\". $\\vec{x}$ contains $\\texttt{None}$, and $\\mathcal{L}(\\vec{x})$ diverged to $+\\infty$.\n",
    "        It means that <b>the constraints are too harsh</b>!\n",
    "    </p>\n",
    "</div>"
   ]
  },
  {
   "cell_type": "markdown",
   "metadata": {},
   "source": [
    "## Relaxation des contraintes\n",
    "\n",
    "\n",
    "Le problème précedent n'avait pas de point faisable avec les contraintes imposées. Afin d'obtenir des points faisable, nous allons remplacer la contrainte\n",
    "$$ Ax = b$$ \n",
    "par les deux contraintes de type *boite*\n",
    "$$ Ax \\geq 0.8 b ~~ \\text{ et  } ~~ Ax \\leq b $$\n",
    "ainsi les contraintes de nutriments sont satisfaites entre 80 et 100% et le problème devient faisable."
   ]
  },
  {
   "cell_type": "markdown",
   "metadata": {},
   "source": [
    "> **Question:** Définir les deux contraintes de boite et resoudre le problème. Vérifier qu'il est faisable."
   ]
  },
  {
   "cell_type": "code",
   "execution_count": 153,
   "metadata": {},
   "outputs": [],
   "source": [
    "def def_box_constraints(x: cp.Variable, nutrients: np.array, recomendations: np.array, percentages: tuple[float, float]=(.8, 1.)):\n",
    "    \"\"\"\n",
    "    Builds the three constraints x>=0, Ax>=(80%)b, Ax<=(100%)b\n",
    "    \"\"\"\n",
    "    A = nutrients\n",
    "    b = recomendations\n",
    "    assert A.shape[0] == b.shape[0] and A.shape[1] == x.shape[0]\n",
    "    low_bound, high_bound = percentages\n",
    "\n",
    "    constraint1 = def_positivity_contraint(x)\n",
    "    constraint2 = (A @ x >= low_bound * b)\n",
    "    constraint3 = (A @ x <= high_bound * b)\n",
    "    return [constraint1, constraint2, constraint3]\n",
    "\n",
    "def solve_box_constraints_pbm(calories: np.array, n: int, nutrients: np.array, recomendations: np.array, percentages: tuple[float, float]=(.8, 1.)):\n",
    "    \"\"\"\n",
    "    The problem is to minimize c@x, s.t. x>=0, Ax>=(80%)b, Ax<=(100%)b\n",
    "    Returns:\n",
    "        * The solver's final state\n",
    "        * The problem's sol° x*\n",
    "        * The loss final value L(x*)\n",
    "    \"\"\"\n",
    "    L, x = make_linear_loss(calories, n)\n",
    "    obj = cp.Minimize(L)\n",
    "\n",
    "    constraints = def_box_constraints(x, nutrients, recomendations, percentages)\n",
    "    prob = cp.Problem(obj, constraints=constraints)\n",
    "    prob.solve(solver=\"ECOS\")\n",
    "    return prob.status, x.value, prob.value"
   ]
  },
  {
   "cell_type": "code",
   "execution_count": 104,
   "metadata": {},
   "outputs": [],
   "source": [
    "results = solve_box_constraints_pbm(c, n, A, b)"
   ]
  },
  {
   "cell_type": "code",
   "execution_count": 105,
   "metadata": {},
   "outputs": [
    {
     "name": "stdout",
     "output_type": "stream",
     "text": [
      "Feasible ? -- optimal\n"
     ]
    }
   ],
   "source": [
    "print(f\"Feasible ? -- {results[0]}\")"
   ]
  },
  {
   "cell_type": "markdown",
   "metadata": {},
   "source": [
    "> **Question:** Affichez les valeur des nutriments pour la solution obtenue et la comparer à 80% et 100% des valeurs prescrites."
   ]
  },
  {
   "cell_type": "code",
   "execution_count": 114,
   "metadata": {},
   "outputs": [
    {
     "name": "stdout",
     "output_type": "stream",
     "text": [
      "Status: optimal\n"
     ]
    },
    {
     "data": {
      "image/png": "[encoded data removed]",
      "text/plain": [
       "<Figure size 640x480 with 1 Axes>"
      ]
     },
     "metadata": {},
     "output_type": "display_data"
    }
   ],
   "source": [
    "pretty_print_results(*results)"
   ]
  },
  {
   "cell_type": "code",
   "execution_count": 119,
   "metadata": {},
   "outputs": [
    {
     "data": {
      "image/png": "[encoded data removed]",
      "text/plain": [
       "<Figure size 640x480 with 1 Axes>"
      ]
     },
     "metadata": {},
     "output_type": "display_data"
    }
   ],
   "source": [
    "fig, ax = plt.subplots()\n",
    "ax.bar(nutr.columns, A @ results[1] / b * 100)\n",
    "ax.tick_params(axis='x', labelrotation=80)\n",
    "fig.suptitle(\"Percentages of the recommended nutrients consumed at solution\")\n",
    "ax.set_ylim([76, 104])\n",
    "plt.show()"
   ]
  },
  {
   "cell_type": "markdown",
   "metadata": {},
   "source": [
    "> **Question:** Donner le nombre de calories totales et les aliments pour lesquels la quantité est supérieure à 0.3."
   ]
  },
  {
   "cell_type": "code",
   "execution_count": 137,
   "metadata": {},
   "outputs": [
    {
     "name": "stdout",
     "output_type": "stream",
     "text": [
      "Calories totales: 1397.0487147820577\n",
      "Food of qty > 0.3:\n",
      "  * Chocolate_Chip_Cookie 1_cookie_(33_g)                      for ~3.69 items, at 160 Cals/item, hence ~590.89 Cals\n",
      "  * Coffee_(Large) 16_fl_oz_cup                                for ~3.21 items, at 0 Cals/item, hence ~0.00 Cals\n",
      "  * Coffee_(Medium) 16_fl_oz_cup                               for ~3.21 items, at 0 Cals/item, hence ~0.00 Cals\n",
      "  * Coffee_(Small) 12_fl_oz_cup                                for ~3.21 items, at 0 Cals/item, hence ~0.00 Cals\n",
      "  * Dasani_Water 16.9_fl_oz                                    for ~3.21 items, at 0 Cals/item, hence ~0.00 Cals\n",
      "  * Diet_Coke_(Child) 12_fl_oz_cup                             for ~1.58 items, at 0 Cals/item, hence ~0.00 Cals\n",
      "  * Diet_Coke_(Large) 30_fl_oz_cup                             for ~1.24 items, at 0 Cals/item, hence ~0.00 Cals\n",
      "  * Diet_Coke_(Medium) 21_fl_oz_cup                            for ~1.46 items, at 0 Cals/item, hence ~0.00 Cals\n",
      "  * Diet_Coke_(Small) 16_fl_oz_cup                             for ~1.77 items, at 0 Cals/item, hence ~0.00 Cals\n",
      "  * EQUAL_0_Calorie_Sweetener 1_pkg_(1.0_g)                    for ~30.94 items, at 0 Cals/item, hence ~0.00 Cals\n",
      "  * Egg_McMuffin 4.8_oz_(135_g)                                for ~0.50 items, at 290 Cals/item, hence ~144.77 Cals\n",
      "  * Fat_Free_Chocolate_Milk_Jug 1_carton_(236_ml)              for ~1.25 items, at 130 Cals/item, hence ~162.26 Cals\n",
      "  * Hamburger 3.5_oz_(100_g)                                   for ~1.53 items, at 250 Cals/item, hence ~383.57 Cals\n",
      "  * Iced_Tea_(Child) 12_fl_oz_cup                              for ~2.12 items, at 0 Cals/item, hence ~0.00 Cals\n",
      "  * Iced_Tea_(Large) 30_fl_oz_cup                              for ~1.58 items, at 0 Cals/item, hence ~0.00 Cals\n",
      "  * Iced_Tea_(Medium) 21_fl_oz                                 for ~1.77 items, at 0 Cals/item, hence ~0.00 Cals\n",
      "  * Iced_Tea_(Small) 16_fl_oz_cup                              for ~1.77 items, at 0 Cals/item, hence ~0.00 Cals\n",
      "  * SPLENDA_No_Calorie_Sweetener 1_pkg_(1.0_g)                 for ~30.94 items, at 0 Cals/item, hence ~0.00 Cals\n",
      "  * Salt_Packet 1_pkg_(0.7_g)                                  for ~0.72 items, at 0 Cals/item, hence ~0.00 Cals\n",
      "  * Side_Salad 3.1_oz_(87_g)                                   for ~1.55 items, at 20 Cals/item, hence ~30.94 Cals\n"
     ]
    }
   ],
   "source": [
    "print(f\"Calories totales: {results[2]}\")\n",
    "print(\"Food of qty > 0.3:\")\n",
    "for item, res, cals in zip(foods['Food'][results[1] >= 0.3], results[1][results[1] >= 0.3], c[results[1] >= 0.3]):\n",
    "    print(f\"  * {item} for ~{res:.2f} items, at {cals} Cals/item, hence ~{res*cals:.2f} Cals\")"
   ]
  },
  {
   "cell_type": "markdown",
   "metadata": {},
   "source": [
    "On remarque que la solution n'est pas pratique! "
   ]
  },
  {
   "cell_type": "markdown",
   "metadata": {},
   "source": [
    "<div class=\"correction-box\" style=\"background-color: #4CAF50;color: white;padding: 15px;margin: 10px 0;border-radius: 5px;\">\n",
    "    <h3>Correction:</h3>\n",
    "    <p>\n",
    "        Indeed the $\\vec{x}$ vector bets everything on diet cokes, coffee/tea, sweeteners (\"édulcorants\"), regardless of the caffein for example. Hence we need to add clever constraints.\n",
    "    </p>\n",
    "</div>"
   ]
  },
  {
   "cell_type": "markdown",
   "metadata": {},
   "source": [
    "## D'autres contraintes\n",
    "\n",
    "On va imposer:\n",
    "* pas de `EQUAL_0_Calorie_Sweetener 1_pkg_(1.0_g)` (item $73$) ni de `SPLENDA_No_Calorie_Sweetener 1_pkg_(1.0_g) :  30.9360336697206` (item $248$)  car c'est pas très bon\n",
    "* pas plus de 10 unités dans le menu, pas plus de 2 unités par item\n",
    "* au moins un petit déjeuner (items 3 à 22)\n",
    "\n",
    "Relacher au besoin les contraintes de nutrition..."
   ]
  },
  {
   "cell_type": "markdown",
   "metadata": {},
   "source": [
    "> **Question :** Implémenter ces contraintes une par une et regarder la valeur optimale de la fonction (le nombre de calories). Cette valeur augmente-t-elle ou diminue-t-elle ? Pourquoi ?"
   ]
  },
  {
   "cell_type": "code",
   "execution_count": 154,
   "metadata": {},
   "outputs": [],
   "source": [
    "def def_new_constraints(x: cp.Variable, nutrients: np.array, recomendations: np.array, percentages: tuple[float, float]=(.7, 1.3)):\n",
    "    \"\"\"\n",
    "    Builds more constraints:\n",
    "        * no pure sweeteners type of meals (eww)\n",
    "        * no more than 10 units of meal\n",
    "        * no more than 2 units per meal (i.e. no all-in on one meal)\n",
    "        * a breakfast containing at least one full unit between all breakfast items\n",
    "    \"\"\"\n",
    "    constraints123 = def_box_constraints(x, nutrients, recomendations, percentages)\n",
    "    constraint4 = (x[248] == 0.) # \"pas de EQUAL_0_Calorie_Sweetener 1_pkg_(1.0_g)\"\n",
    "    constraint5 = (x[73] == 0.) # \"ni de SPLENDA_No_Calorie_Sweetener 1_pkg_(1.0_g)\"\n",
    "    constraint6 = (cp.sum(x) <= 10.) # \"pas plus de 10 unités dans le menu\"\n",
    "    constraint7 = (x <= 2.) # \"pas plus de 2 unités par item\"\n",
    "    constraint8 = (cp.sum(x[3:23]) >= 1.) # \"au moins un petit déjeuner (items 3 à 22)\"\n",
    "    return [*constraints123, constraint4, constraint5, constraint6, constraint7, constraint8]"
   ]
  },
  {
   "cell_type": "code",
   "execution_count": 148,
   "metadata": {},
   "outputs": [],
   "source": [
    "def solve_full_constraints_pbm(calories: np.array, n: int, nutrients: np.array, recomendations: np.array, percentages: tuple[float, float]=(.8, 1.)):\n",
    "    \"\"\"\n",
    "    The problem is to minimize c@x, s.t. x>=0, Ax>=(80%)b, Ax<=(100%)b\n",
    "    Returns:\n",
    "        * The solver's final state\n",
    "        * The problem's sol° x*\n",
    "        * The loss final value L(x*)\n",
    "    \"\"\"\n",
    "    L, x = make_linear_loss(calories, n)\n",
    "    obj = cp.Minimize(L)\n",
    "\n",
    "    constraints = def_new_constraints(x, nutrients, recomendations, percentages)\n",
    "    prob = cp.Problem(obj, constraints=constraints)\n",
    "    prob.solve(solver=\"ECOS\")\n",
    "    return prob.status, x.value, prob.value"
   ]
  },
  {
   "cell_type": "code",
   "execution_count": 151,
   "metadata": {},
   "outputs": [
    {
     "name": "stdout",
     "output_type": "stream",
     "text": [
      "Status: optimal\n"
     ]
    },
    {
     "data": {
      "image/png": "[encoded data removed]",
      "text/plain": [
       "<Figure size 640x480 with 1 Axes>"
      ]
     },
     "metadata": {},
     "output_type": "display_data"
    }
   ],
   "source": [
    "results = solve_full_constraints_pbm(c, n, A, b)\n",
    "pretty_print_results(*results, n_samples=10)"
   ]
  },
  {
   "cell_type": "code",
   "execution_count": 152,
   "metadata": {},
   "outputs": [
    {
     "name": "stdout",
     "output_type": "stream",
     "text": [
      "Calories totales: 1651.6421331297968\n",
      "Food of qty > 0.3:\n",
      "  * Baked_Hot_Apple_Pie 2.7_oz_(77_g)                          for ~1.00 items, at 250 Cals/item, hence ~250.00 Cals\n",
      "  * Chocolate_Chip_Cookie 1_cookie_(33_g)                      for ~1.00 items, at 160 Cals/item, hence ~160.70 Cals\n",
      "  * Coffee_(Large) 16_fl_oz_cup                                for ~0.37 items, at 0 Cals/item, hence ~0.00 Cals\n",
      "  * Coffee_(Medium) 16_fl_oz_cup                               for ~0.37 items, at 0 Cals/item, hence ~0.00 Cals\n",
      "  * Coffee_(Small) 12_fl_oz_cup                                for ~0.37 items, at 0 Cals/item, hence ~0.00 Cals\n",
      "  * Dasani_Water 16.9_fl_oz                                    for ~0.37 items, at 0 Cals/item, hence ~0.00 Cals\n",
      "  * Egg_McMuffin 4.8_oz_(135_g)                                for ~0.63 items, at 290 Cals/item, hence ~183.57 Cals\n",
      "  * Fat_Free_Chocolate_Milk_Jug 1_carton_(236_ml)              for ~0.66 items, at 130 Cals/item, hence ~86.25 Cals\n",
      "  * Hamburger 3.5_oz_(100_g)                                   for ~1.01 items, at 250 Cals/item, hence ~251.64 Cals\n",
      "  * Hotcakes 5.3_oz_(151_g)                                    for ~1.79 items, at 350 Cals/item, hence ~625.88 Cals\n",
      "  * Side_Salad 3.1_oz_(87_g)                                   for ~1.75 items, at 20 Cals/item, hence ~34.92 Cals\n"
     ]
    }
   ],
   "source": [
    "print(f\"Calories totales: {results[2]}\")\n",
    "print(\"Food of qty > 0.3:\")\n",
    "for item, res, cals in zip(foods['Food'][results[1] >= 0.3], results[1][results[1] >= 0.3], c[results[1] >= 0.3]):\n",
    "    print(f\"  * {item} for ~{res:.2f} items, at {cals} Cals/item, hence ~{res*cals:.2f} Cals\")"
   ]
  },
  {
   "cell_type": "markdown",
   "metadata": {},
   "source": [
    "<div class=\"correction-box\" style=\"background-color: #4CAF50;color: white;padding: 15px;margin: 10px 0;border-radius: 5px;\">\n",
    "    <h3>Correction:</h3>\n",
    "    <p>\n",
    "        This result makes more sense, since now we have a full breakfast and various meals, while not betting everything on some specific meal.\n",
    "    </p>\n",
    "    <p>\n",
    "        Furthermore, even if the total number of calories consumed is higher, we have a better and more various distribution of the meals.\n",
    "    </p>\n",
    "</div>"
   ]
  },
  {
   "cell_type": "markdown",
   "metadata": {},
   "source": [
    "# 3- D'autres problèmes"
   ]
  },
  {
   "cell_type": "markdown",
   "metadata": {},
   "source": [
    "Beaucoup d'autres problèmes de ce genre existent. Ci-dessous vous trouverez un nouveau problème mais vous êtes également invités à inventer vos propres problèmes et chercher si ils sont solvables par CVXPY ! "
   ]
  },
  {
   "cell_type": "markdown",
   "metadata": {},
   "source": [
    "> **Question :** Quels sont les aliments à choisir pour obtenir *au moins* les nutriments recommendés en un minimum d'unités ? "
   ]
  },
  {
   "cell_type": "code",
   "execution_count": 159,
   "metadata": {},
   "outputs": [
    {
     "name": "stdout",
     "output_type": "stream",
     "text": [
      "Status: optimal\n"
     ]
    },
    {
     "data": {
      "image/png": "[encoded data removed]",
      "text/plain": [
       "<Figure size 640x480 with 1 Axes>"
      ]
     },
     "metadata": {},
     "output_type": "display_data"
    }
   ],
   "source": [
    "def solve_Q3(c, A, b, n: int):\n",
    "    x = cp.Variable(n)\n",
    "    L = cp.sum(x)\n",
    "    obj = cp.Minimize(L)\n",
    "    constraints = [x >= 0., A @ x >= b]\n",
    "    prob = cp.Problem(obj, constraints=constraints)\n",
    "    prob.solve(solver=\"ECOS\")\n",
    "    return prob.status, x.value, prob.value\n",
    "\n",
    "pretty_print_results(*solve_Q3(c, A, b, n))"
   ]
  },
  {
   "cell_type": "markdown",
   "metadata": {},
   "source": [
    "<div class=\"correction-box\" style=\"background-color: #4CAF50;color: white;padding: 15px;margin: 10px 0;border-radius: 5px;\">\n",
    "    <h3>Correction:</h3>\n",
    "    <p>\n",
    "        Result: eating fast food is the most efficient way to get calories in the fewest amount of meal.\n",
    "    </p>\n",
    "</div>"
   ]
  },
  {
   "cell_type": "markdown",
   "metadata": {},
   "source": [
    "> **Question :** Quels nutriments sont les plus dur à obtenir (on pourra regarder la valeur de la variable duale) ? "
   ]
  },
  {
   "cell_type": "markdown",
   "metadata": {},
   "source": [
    "<div class=\"correction-box\" style=\"background-color: #4CAF50;color: white;padding: 15px;margin: 10px 0;border-radius: 5px;\">\n",
    "    <h3>Correction:</h3>\n",
    "    <h4><b>What is a dual?</b></h4>\n",
    "    <p>\n",
    "        We reformulate the first problem in so-called \"standard form\", so that the constraints are only equalities:\n",
    "        $$\n",
    "        (P)\\left\\lbrace\\begin{array}{lrc}\n",
    "            \\min_{x\\in\\mathbb{R}_+^n} & c^Tx&\\\\\n",
    "            \\mbox{s.t.} & & \\\\\n",
    "            & Ax + s_1 = b & \\\\\n",
    "            & -Ax + s_2= -0.8b & \\\\\n",
    "            & x_{73} = 0 & \\\\\n",
    "            & x_{248} = 0 & \\\\\n",
    "            & \\sum_i x_i + s_3 = 10 & \\\\\n",
    "            & x_i + s_{4, i} = 2 & \\forall i\\le n \\\\\n",
    "            & -\\sum_{i\\in\\{3,\\dots,22\\}}x_i + s_5  = -1 \\\\\n",
    "            x_i \\ge 0 & & \\\\\n",
    "            s_k \\ge 0 & &\n",
    "        \\end{array}\\right.\n",
    "        $$\n",
    "    </p>\n",
    "    <p>\n",
    "        This can be expressed in a more compact form:\n",
    "        $$\n",
    "        (P')\\left\\lbrace\\begin{array}{lrc}\n",
    "            \\min_{\\tilde{x}\\in\\mathbb{R}_+^n} & \\tilde{c}^T\\tilde{x_s}&\\\\\n",
    "            \\mbox{s.t.} & & \\\\\n",
    "            & \\tilde{A}\\tilde{x_s}=\\tilde{b} & \\\\\n",
    "        \\end{array}\\right.\n",
    "        $$\n",
    "        With:\n",
    "        $\n",
    "        \\tilde{A}:=\\left[\\begin{array}{ccccc}\n",
    "            A & \\vec{1} & \\vec{0} & 0 & \\vec{0} & \\vec{0} \\\\\n",
    "            \\hline\n",
    "            -A & \\vec{0} & \\vec{1} & 0 & \\vec{0} & \\vec{0} \\\\\n",
    "            \\hline\n",
    "            \\delta_{i=73} & \\vec{0} & \\vec{0} & 0 & \\vec{0} & \\vec{0} \\\\\n",
    "            \\delta_{i=248} & \\vec{0} & \\vec{0} & 0 & \\vec{0} & \\vec{0} \\\\\n",
    "            \\vec{1} & \\vec{0} & \\vec{0} & 1 & \\vec{0} & \\vec{0} \\\\\n",
    "            \\hline\n",
    "              & \\vec{0} & \\vec{0} & 0    &  & \\vec{0} \\\\\n",
    "            I & \\vdots & \\vdots & \\vdots & I & \\vdots \\\\\n",
    "              & \\vec{0} & \\vec{0} & 0    &  & \\vec{0} \\\\\n",
    "            \\hline\n",
    "            \\delta_{i\\in\\{3,\\dots,22\\}} & 0 & 0 & 0 & 0 & I\n",
    "        \\end{array}\\right]\n",
    "        $, $\n",
    "        \\tilde{b}:=\\left(\\begin{array}{c}\n",
    "            b\\\\\n",
    "            -0.8b\\\\\n",
    "            0\\\\\n",
    "            0\\\\\n",
    "            10\\\\\n",
    "            \\vec{2}\\\\\n",
    "            - \\vec{1}\n",
    "        \\end{array}\\right)$, and $\\tilde{x}_s:=\\left(\\begin{array}{c}x\\\\\\vec{s}\\end{array}\\right)$, $\\tilde{c}:=\\left(\\begin{array}{c}c\\\\\\vec{0}\\end{array}\\right)$\n",
    "    </p>\n",
    "    <p>\n",
    "        We would now like to give to each of the constraint (each line) what we call a \"Lagrange multiplier\", which should measure how important each constraint is.\n",
    "        A solution of this new problem should be feasible if the original problem is since those coefficients will not change the equalities by being multiplied on both sides.\n",
    "        Note that we cannot go backward anymore since we do not know the value of those multipliers!\n",
    "        $$\n",
    "        (\\mbox{constraints})\\left\\lbrace\\begin{array}{l}\n",
    "            \\lambda^T\\tilde{A}\\tilde{x}_s=\\lambda^T\\tilde{b} \\\\\n",
    "            \\lambda \\ge 0\n",
    "        \\end{array}\\right.\n",
    "        $$\n",
    "    </p>\n",
    "    <p>\n",
    "        Then, we shall not define those multipliers randomly: they will correspond to the combinations of the nutrients constraints ($\\tilde{A}$) bounding $\\tilde{c}$ from below, so that $\\tilde{A}\\lambda\\le\\tilde{c}$. This clever choice allows us to reformulate:\n",
    "        $$\n",
    "        (D)\\left\\lbrace\\begin{array}{lrc}\n",
    "            \\max_{x\\in\\mathbb{R}_+^n} & \\lambda^Tb&\\\\\n",
    "            \\mbox{s.t.} & & \\\\\n",
    "                & \\tilde{A}\\lambda\\le\\tilde{c} & \\\\\n",
    "            \\lambda \\ge 0 & &\n",
    "        \\end{array}\\right.\n",
    "        $$\n",
    "        This is true because minimizing $\\tilde{c}^T\\tilde{x}_s$ is equivalent to \"maximizing its own minimizer\", by bellow, which is $\\tilde{b}^T\\lambda = (\\tilde{A}\\tilde{x}_s)^T\\lambda\\le\\tilde{c}^Tx$.\n",
    "    </p>\n",
    "    So finding the solution of $(D)$ amounts to finding a lower bound for the solution of $(P)$.\n",
    "</div>"
   ]
  },
  {
   "cell_type": "markdown",
   "metadata": {},
   "source": [
    "<div class=\"correction-box\" style=\"background-color: #4CAF50;color: white;padding: 15px;margin: 10px 0;border-radius: 5px;\">\n",
    "    <h3>Correction:</h3>\n",
    "    <p>\n",
    "        The nutrients harder to find are the ones that are over-represented in the dual variable: this means that their associated Lagrange multiplier (\"dual variable\") is very \"active\", and so the equality constraint is \"hardest to fulfill\".\n",
    "    </p>\n",
    "</div>"
   ]
  },
  {
   "cell_type": "code",
   "execution_count": 184,
   "metadata": {},
   "outputs": [
    {
     "name": "stdout",
     "output_type": "stream",
     "text": [
      "For nutrient Carbo, \"activity\" is l_i=0.0032\n",
      "For nutrient Protein, \"activity\" is l_i=0.0024\n",
      "For nutrient VitA, \"activity\" is l_i=0.0109\n",
      "For nutrient VitC, \"activity\" is l_i=0.0155\n"
     ]
    },
    {
     "data": {
      "image/png": "[encoded data removed]",
      "text/plain": [
       "<Figure size 640x480 with 1 Axes>"
      ]
     },
     "metadata": {},
     "output_type": "display_data"
    }
   ],
   "source": [
    "def find_Q3_duals(c, A, b, n: int):\n",
    "    x = cp.Variable(n)\n",
    "    L = cp.sum(x)\n",
    "    obj = cp.Minimize(L)\n",
    "    constraints = [x >= 0., A @ x >= b]\n",
    "    prob = cp.Problem(obj, constraints=constraints)\n",
    "    prob.solve(solver=\"ECOS\")\n",
    "    return constraints[1].dual_value\n",
    "lam = find_Q3_duals(c, A, b, n)\n",
    "for name, l_i in zip(foods.columns, lam):\n",
    "    if l_i > 1e-5: print(f\"For nutrient {name}, \\\"activity\\\" is {l_i=:.4f}\")\n",
    "plt.figure()\n",
    "plt.hist(lam, histtype=\"bar\", bins=[0., 1e-4, 1e-2, 1], rwidth=0.8)\n",
    "plt.xscale(\"log\")\n",
    "plt.title(r\"Distribution of the lagrange multipliers $\\lambda_i$\")\n",
    "plt.show()"
   ]
  },
  {
   "cell_type": "markdown",
   "metadata": {},
   "source": [
    "<div class=\"correction-box\" style=\"background-color: #4CAF50;color: white;padding: 15px;margin: 10px 0;border-radius: 5px;\">\n",
    "    <h3>Correction:</h3>\n",
    "    <p>\n",
    "        Here the result is that vitamins are the hardest to get, followed by fat and proteins.\n",
    "    </p>\n",
    "</div>"
   ]
  },
  {
   "cell_type": "markdown",
   "metadata": {},
   "source": [
    "# 4- Programmation entière [*]"
   ]
  },
  {
   "cell_type": "markdown",
   "metadata": {},
   "source": [
    "Les solutions obtenues précédemment sont des solutions *continues*, alors que l'on commande généralement un nombre entier d'items. Les problèmes d'optimisation avec variables entières appellés (Mixed) Integer Programs, se résolvent avec des méthodes et des solveurs différents. CVXPY appellant différents solveurs nativement, cette opération est transparente ici. "
   ]
  },
  {
   "cell_type": "markdown",
   "metadata": {},
   "source": [
    "## Les différences pour la programmation en nombre entier\n",
    "\n",
    "* le type de la variable qui doit être précisé lors de la déclaration à CVXPY\n",
    "\n",
    "        x = cp.Variable(n,integer=True) \n",
    "\n",
    "* le solver (qui doit etre capable de faire des MIP) (mais c'est transparent pour nous ici)"
   ]
  },
  {
   "cell_type": "markdown",
   "metadata": {},
   "source": [
    "> **Question:** Reprendre le problème relaxé plus haut (minimisation des calories entre 80% et 100% des contraintes de nutrition) en ajoutant que la variable $x$ est maintenant à valeur entières. Le problème est-il toujours faisable?"
   ]
  },
  {
   "cell_type": "code",
   "execution_count": 185,
   "metadata": {
    "scrolled": true
   },
   "outputs": [
    {
     "name": "stdout",
     "output_type": "stream",
     "text": [
      "Status: infeasible\n",
      "Convergence issues, L(x*)=inf\n"
     ]
    }
   ],
   "source": [
    "def make_mip_loss(calories: np.array, n: int):\n",
    "    x = cp.Variable(n, integer=True)\n",
    "    c = calories.squeeze()\n",
    "    L = c.T @ x\n",
    "    return L, x\n",
    "\n",
    "def solve_mip_pbm(calories: np.array, n: int, nutrients: np.array, recomendations: np.array, percentages: tuple[float, float]=(.8, 1.)):\n",
    "    \"\"\"\n",
    "    The problem is to minimize c@x, s.t. x>=0, Ax>=(80%)b, Ax<=(100%)b\n",
    "    Returns:\n",
    "        * The solver's final state\n",
    "        * The problem's sol° x*\n",
    "        * The loss final value L(x*)\n",
    "    \"\"\"\n",
    "    L, x = make_mip_loss(calories, n)\n",
    "    obj = cp.Minimize(L)\n",
    "\n",
    "    constraints = def_box_constraints(x, nutrients, recomendations, percentages)\n",
    "    prob = cp.Problem(obj, constraints=constraints)\n",
    "    prob.solve(solver=\"SCIPY\")\n",
    "    return prob.status, x.value, prob.value\n",
    "\n",
    "results = solve_mip_pbm(c, n, A, b)\n",
    "pretty_print_results(*results, n_samples=10)"
   ]
  },
  {
   "cell_type": "markdown",
   "metadata": {},
   "source": [
    "<div class=\"correction-box\" style=\"background-color: #4CAF50;color: white;padding: 15px;margin: 10px 0;border-radius: 5px;\">\n",
    "    <h3>Correction:</h3>\n",
    "    <p>\n",
    "        The problem is now infeasible! It makes sense since the box $0.8\\vec{b}\\le A\\vec{x}\\le\\vec{b}$ may not contain integer vectors at all depending on $A$ and $\\vec{b}$. \n",
    "    </p>\n",
    "</div>"
   ]
  },
  {
   "cell_type": "markdown",
   "metadata": {},
   "source": [
    "### Relaxation des contraintes\n",
    "\n",
    "Les problemes MIP (Mixed Integer Programs) sont en général beaucoup plus dur car trouver des points admissibles est difficile."
   ]
  },
  {
   "cell_type": "markdown",
   "metadata": {},
   "source": [
    "> **Question :** Relaxez des contraintes jusqu'a obtenir un problème faisable et observez la solution."
   ]
  },
  {
   "cell_type": "code",
   "execution_count": 202,
   "metadata": {},
   "outputs": [
    {
     "name": "stdout",
     "output_type": "stream",
     "text": [
      "Trying combinations\n",
      "   * 0.79%b <= Ax <= 1.01%b\n",
      "   * 0.78%b <= Ax <= 1.02%b\n",
      "   * 0.77%b <= Ax <= 1.03%b\n",
      "   * 0.76%b <= Ax <= 1.04%b\n",
      "   * 0.75%b <= Ax <= 1.05%b\n",
      "###\n",
      "Found!\n",
      "Status: optimal\n"
     ]
    },
    {
     "data": {
      "image/png": "[encoded data removed]",
      "text/plain": [
       "<Figure size 640x480 with 1 Axes>"
      ]
     },
     "metadata": {},
     "output_type": "display_data"
    },
    {
     "name": "stdout",
     "output_type": "stream",
     "text": [
      "[0. 0. 0. 0. 0. 0. 0. 0. 0. 0. 0. 0. 0. 0. 0. 0. 0. 0. 0. 0. 0. 0. 0. 0.\n",
      " 0. 0. 0. 0. 0. 0. 0. 0. 0. 0. 0. 0. 0. 0. 0. 0. 0. 0. 0. 4. 0. 0. 0. 0.\n",
      " 0. 0. 0. 0. 0. 0. 0. 0. 0. 0. 0. 0. 0. 0. 0. 0. 0. 0. 0. 0. 0. 0. 0. 0.\n",
      " 0. 0. 1. 0. 0. 0. 2. 0. 0. 0. 0. 0. 0. 0. 0. 0. 0. 0. 0. 0. 0. 0. 0. 0.\n",
      " 0. 0. 0. 0. 0. 0. 0. 0. 0. 0. 0. 0. 0. 0. 0. 0. 0. 0. 0. 0. 0. 0. 0. 0.\n",
      " 0. 0. 0. 0. 0. 0. 0. 0. 0. 0. 0. 0. 0. 0. 0. 0. 0. 0. 0. 0. 0. 0. 0. 0.\n",
      " 0. 0. 0. 0. 0. 0. 0. 0. 0. 0. 4. 0. 2. 0. 0. 0. 0. 0. 0. 0. 0. 0. 0. 0.\n",
      " 0. 0. 0. 0. 0. 0. 0. 0. 0. 0. 0. 0. 0. 0. 0. 0. 0. 0. 0. 0. 0. 0. 0. 0.\n",
      " 0. 0. 0. 0. 0. 0. 0. 0. 0. 0. 0. 0. 0. 0. 0. 0. 0. 0. 0. 0. 0. 0. 0. 0.\n",
      " 0. 0. 0. 0. 0. 0. 0. 0. 0. 0. 0. 0. 0. 0. 0. 0. 0. 0. 0. 0. 0. 0. 0. 0.\n",
      " 0. 0. 0. 0. 0. 0. 0. 0. 0. 0. 0. 0. 0. 0. 0. 0. 0. 0. 0. 0. 0. 0. 0. 0.\n",
      " 1. 0. 0. 0. 0. 0. 0. 0. 0. 0. 0. 0. 0. 0. 0. 0. 0. 0. 0. 0. 0. 1. 0. 0.\n",
      " 0. 0. 0. 0. 0. 0. 0. 0. 0. 0. 0. 0. 0. 0. 0. 0. 0.]\n"
     ]
    }
   ],
   "source": [
    "def find_relax_constraints(step=1e-2):\n",
    "    p_m, p_M = .8, 1.\n",
    "    results = ('', None, None)\n",
    "    print(\"Trying combinations\")\n",
    "    while results[0] != 'optimal':\n",
    "        p_m -= step\n",
    "        p_M += step\n",
    "        print(f'   * {p_m}%b <= Ax <= {p_M}%b')\n",
    "        results = solve_mip_pbm(c, n, A, b, percentages=(p_m, p_M))\n",
    "    print(\"###\\nFound!\")\n",
    "    pretty_print_results(*results, n_samples=(results[1] > 0).sum())\n",
    "    return results, p\n",
    "results, _ = find_relax_constraints()\n",
    "print(np.abs(results[1]))"
   ]
  },
  {
   "cell_type": "markdown",
   "metadata": {},
   "source": [
    "<div class=\"correction-box\" style=\"background-color: #4CAF50;color: white;padding: 15px;margin: 10px 0;border-radius: 5px;\">\n",
    "    <h3>Correction:</h3>\n",
    "    <p>\n",
    "        We are lucky, the solver promoted a rather sparse solution: the total number of food items is ~$15$, so ~$3$ per meal.\n",
    "    </p>\n",
    "</div>"
   ]
  }
 ],
 "metadata": {
  "kernelspec": {
   "display_name": "Python 3 (ipykernel)",
   "language": "python",
   "name": "python3"
  },
  "language_info": {
   "codemirror_mode": {
    "name": "ipython",
    "version": 3
   },
   "file_extension": ".py",
   "mimetype": "text/x-python",
   "name": "python",
   "nbconvert_exporter": "python",
   "pygments_lexer": "ipython3",
   "version": "3.11.5"
  },
  "varInspector": {
   "cols": {
    "lenName": 16,
    "lenType": 16,
    "lenVar": 40
   },
   "kernels_config": {
    "python": {
     "delete_cmd_postfix": "",
     "delete_cmd_prefix": "del ",
     "library": "var_list.py",
     "varRefreshCmd": "print(var_dic_list())"
    },
    "r": {
     "delete_cmd_postfix": ") ",
     "delete_cmd_prefix": "rm(",
     "library": "var_list.r",
     "varRefreshCmd": "cat(var_dic_list()) "
    }
   },
   "types_to_exclude": [
    "module",
    "function",
    "builtin_function_or_method",
    "instance",
    "_Feature"
   ],
   "window_display": false
  }
 },
 "nbformat": 4,
 "nbformat_minor": 4
}
