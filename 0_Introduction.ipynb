{
 "cells": [
  {
   "cell_type": "markdown",
   "metadata": {},
   "source": [
    "<table>\n",
    "<tr>\n",
    "<td width=15%><img src=\"./img/UGA.png\"></img></td>\n",
    "<td><center><h1>Introduction à la Recherche Opérationelle</h1><br/>M2 Statistique Science des Données (SSD)</center></td>\n",
    "<td width=15%>\n",
    "<a href=\"https://www-ljk.imag.fr/membres/Anatoli.Iouditski/\" style=\"font-size: 16px; font-weight: bold\">Anatoli Juditsky</a><br/>\n",
    "<a href=\"http://www.iutzeler.org\" style=\"font-size: 16px; font-weight: bold\">Franck Iutzeler</a><br/>\n",
    " </td>\n",
    "</tr>\n",
    "</table>"
   ]
  },
  {
   "cell_type": "markdown",
   "metadata": {},
   "source": [
    "<br/><br/>\n",
    "<center><a style=\"font-size: 30pt; font-weight: bold\">TP 0 - Introduction à CVXPY </a></center>\n",
    "<br/><br/>"
   ]
  },
  {
   "cell_type": "markdown",
   "metadata": {},
   "source": [
    "# 1- Le package CVXPY"
   ]
  },
  {
   "cell_type": "markdown",
   "metadata": {},
   "source": [
    "**CVXPY** est un package Python permettant la résolution de problèmes d'optimisation une fois ceux-ci formulés correctement. \n",
    "\n",
    "Le site de CVXPY [https://www.cvxpy.org/](https://www.cvxpy.org/) fournit de nombreuses ressources, notamment des exemples et l'API. *C'est votre ressource principale si vous n'arrivez pas à formuler un problème ou avez un bug*."
   ]
  },
  {
   "cell_type": "markdown",
   "metadata": {},
   "source": [
    "## Installation\n",
    "\n",
    "\n",
    "La manière la plus simple de l'installer est d'utiliser ``pip``\n",
    "    \n",
    "        pip install --user cvxpy\n",
    "        \n",
    "Par exemple en exécutant la ligne de commande suivante:"
   ]
  },
  {
   "cell_type": "code",
   "execution_count": 1,
   "metadata": {},
   "outputs": [
    {
     "name": "stdout",
     "output_type": "stream",
     "text": [
      "Requirement already satisfied: cvxpy in /home/franck/.local/lib/python3.8/site-packages (1.1.5)\n",
      "Requirement already satisfied: numpy>=1.15 in /home/franck/.local/lib/python3.8/site-packages (from cvxpy) (1.19.5)\n",
      "Requirement already satisfied: osqp>=0.4.1 in /home/franck/.local/lib/python3.8/site-packages (from cvxpy) (0.6.1)\n",
      "Requirement already satisfied: scipy>=1.1.0 in /home/franck/.local/lib/python3.8/site-packages (from cvxpy) (1.5.2)\n",
      "Requirement already satisfied: ecos>=2 in /home/franck/.local/lib/python3.8/site-packages (from cvxpy) (2.0.7.post1)\n",
      "Requirement already satisfied: scs>=1.1.5 in /home/franck/.local/lib/python3.8/site-packages (from cvxpy) (2.1.2)\n",
      "Requirement already satisfied: future in /usr/lib/python3/dist-packages (from osqp>=0.4.1->cvxpy) (0.18.2)\n"
     ]
    }
   ],
   "source": [
    "!pip install --user cvxpy"
   ]
  },
  {
   "cell_type": "markdown",
   "metadata": {},
   "source": [
    "*Attention:* Sous windows, vous devrez également installer `Visual Studio build tools for Python 3` , consultez https://www.cvxpy.org/install/"
   ]
  },
  {
   "cell_type": "code",
   "execution_count": 2,
   "metadata": {},
   "outputs": [],
   "source": [
    "import cvxpy as cp\n",
    "import numpy as np"
   ]
  },
  {
   "cell_type": "markdown",
   "metadata": {},
   "source": [
    "Si l'installation est ok, les deux lignes ci-dessus ne devraient pas retourner d'erreur."
   ]
  },
  {
   "cell_type": "markdown",
   "metadata": {},
   "source": [
    "# 2- Un premier exemple\n",
    "\n",
    "\n",
    "Considérons le problème de régression linéaire\n",
    "$$ Y=X\\beta^\\star+\\epsilon$$\n",
    "où $Y$ est un vecteur de taille $n=20$, $X$ est une matrice de taille $n\\times p = 20\\times 10$ et $\\beta^\\star =[-4,..,-1,0,1,..,5]$ est un vecteur de taille $p=10$; finalement, epsilon est un vecteur aléatoire Gaussien de taille $n=20$ et de variance $0.01$."
   ]
  },
  {
   "cell_type": "code",
   "execution_count": 3,
   "metadata": {},
   "outputs": [],
   "source": [
    "n = 20\n",
    "p = 10\n",
    "beta_star = np.array(range(-4,6))   # beta is just -4 through 5.\n",
    "\n",
    "X = np.random.randn(n,p)\n",
    "Y = np.dot(X,beta_star) + 0.1*np.random.randn(n)"
   ]
  },
  {
   "cell_type": "markdown",
   "metadata": {},
   "source": [
    "L'estimateur du maximum de vraisemblance de $\\hat{\\beta}$ sachant $Y$ et $X$ est le vecteur minimisant en $\\beta$ la *fonction objectif*\n",
    "$$ L(\\beta) = \\| X \\beta - Y \\|_2^2 $$"
   ]
  },
  {
   "cell_type": "markdown",
   "metadata": {},
   "source": [
    "## Resolution avec CVXPY"
   ]
  },
  {
   "cell_type": "markdown",
   "metadata": {},
   "source": [
    "* **Étape 1.** Définir la variable selon laquelle minimiser    "
   ]
  },
  {
   "cell_type": "code",
   "execution_count": 4,
   "metadata": {},
   "outputs": [],
   "source": [
    "beta = cp.Variable(p) # p est la taille de la variable, définie ci-dessus"
   ]
  },
  {
   "cell_type": "markdown",
   "metadata": {},
   "source": [
    "`beta` est désormais une *variable cvxpy*, ce n'est pas un nombre mais un objet qui sert à écrire notre objectif."
   ]
  },
  {
   "cell_type": "markdown",
   "metadata": {},
   "source": [
    "* **Étape 2.** Définir la fonction objectif"
   ]
  },
  {
   "cell_type": "code",
   "execution_count": 5,
   "metadata": {},
   "outputs": [],
   "source": [
    "L = cp.sum_squares(X @ beta - Y) # L est la fonction ci-dessus "
   ]
  },
  {
   "cell_type": "markdown",
   "metadata": {},
   "source": [
    "Ici, la variable `L` est bien une *fonction pour CVXPY* comme son expression fait intervenir `beta` qui est une *variable cvxpy*. Ces fonctions peuvent faire intervenir uniquement les opérations gérées par CVXPY, voir https://www.cvxpy.org/tutorial/functions/index.html .  \n",
    "\n",
    "*Attention :* pour écrire $X \\beta$, il faut écrire `X @ beta` (ou `X * beta` sur les version plus anciennes) afin que CVXPY comprenne qu'il s'agit d'une multiplication."
   ]
  },
  {
   "cell_type": "markdown",
   "metadata": {},
   "source": [
    "* **Étape 3.** Créer le problème à résoudre"
   ]
  },
  {
   "cell_type": "markdown",
   "metadata": {},
   "source": [
    "D'abord, on précise l'objectif qui est minimiser `L` (sous entendu par rapport à la variable  `beta` )."
   ]
  },
  {
   "cell_type": "code",
   "execution_count": 6,
   "metadata": {},
   "outputs": [],
   "source": [
    "objective = cp.Minimize(L)"
   ]
  },
  {
   "cell_type": "markdown",
   "metadata": {},
   "source": [
    "Ensuite, on créé le problème a proprement parler."
   ]
  },
  {
   "cell_type": "code",
   "execution_count": 7,
   "metadata": {},
   "outputs": [],
   "source": [
    "prob = cp.Problem(objective)"
   ]
  },
  {
   "cell_type": "markdown",
   "metadata": {},
   "source": [
    "* **Étape 4.** Le résoudre!"
   ]
  },
  {
   "cell_type": "code",
   "execution_count": 8,
   "metadata": {},
   "outputs": [
    {
     "data": {
      "text/plain": [
       "0.061367289477309836"
      ]
     },
     "execution_count": 8,
     "metadata": {},
     "output_type": "execute_result"
    }
   ],
   "source": [
    "prob.solve()"
   ]
  },
  {
   "cell_type": "markdown",
   "metadata": {},
   "source": [
    "* **Étape 5.** Analyser le résultat\n",
    "\n",
    "Après l'appel de la fonction `solve`, la variable `prob` contient (entre autres) les attributs suivants:\n",
    "* `status` : est-ce que la solution trouvée est optimale\n",
    "* `value` : valeur optimale de L \n",
    "* `solver_stats.solve_time` : le temps mis à trouver une solution\n",
    "\n",
    "et la variable `beta` contient notamment la valeur optimal:\n",
    "* `value` : valeur optimale (de la variable précisée)"
   ]
  },
  {
   "cell_type": "code",
   "execution_count": 9,
   "metadata": {},
   "outputs": [
    {
     "data": {
      "text/plain": [
       "'optimal'"
      ]
     },
     "execution_count": 9,
     "metadata": {},
     "output_type": "execute_result"
    }
   ],
   "source": [
    "prob.status"
   ]
  },
  {
   "cell_type": "code",
   "execution_count": 10,
   "metadata": {},
   "outputs": [
    {
     "data": {
      "text/plain": [
       "0.061367289477309836"
      ]
     },
     "execution_count": 10,
     "metadata": {},
     "output_type": "execute_result"
    }
   ],
   "source": [
    "prob.value"
   ]
  },
  {
   "cell_type": "code",
   "execution_count": 11,
   "metadata": {},
   "outputs": [
    {
     "data": {
      "text/plain": [
       "0.000351238"
      ]
     },
     "execution_count": 11,
     "metadata": {},
     "output_type": "execute_result"
    }
   ],
   "source": [
    "prob.solver_stats.solve_time"
   ]
  },
  {
   "cell_type": "code",
   "execution_count": 12,
   "metadata": {},
   "outputs": [
    {
     "name": "stdout",
     "output_type": "stream",
     "text": [
      "\n",
      "The optimal value is 0.061367289477309836\n",
      "The optimal beta is\n",
      "[-4.05082208 -3.01970524 -2.00897976 -1.01645478  0.07834549  0.95137822\n",
      "  1.96266494  2.95258813  3.96221123  5.06021095]\n",
      "The norm of the residual is  0.24772422061096364\n"
     ]
    }
   ],
   "source": [
    "print(\"\\nThe optimal value is\", prob.value)\n",
    "print(\"The optimal beta is\")\n",
    "print(beta.value)\n",
    "print(\"The norm of the residual is \", cp.norm(X@beta - Y, p=2).value)"
   ]
  },
  {
   "cell_type": "markdown",
   "metadata": {},
   "source": [
    "## Conclusion"
   ]
  },
  {
   "cell_type": "markdown",
   "metadata": {},
   "source": [
    "On a donc résolu le problème de régression linéaire assez facilement. Cependant, comme nous alons le voir maintenant, CVXPY permet aisément de modifier le problème, en ajoutant par exemple des contraintes."
   ]
  },
  {
   "cell_type": "markdown",
   "metadata": {},
   "source": [
    "# 3- Un problème avec contraintes\n",
    "\n",
    "Supposons que nous voulons maintenant résoudre le même problème de minimiser\n",
    "$$ L(\\beta) = \\| X \\beta - Y \\|_2^2 $$\n",
    "mais avec la contrainte supplémentaire que les composantes de $\\beta$ doivent toute être positives et que leur somme doive être égale à 10.\n",
    "\n",
    "\n",
    "Suivons les même étapes que précedemment."
   ]
  },
  {
   "cell_type": "markdown",
   "metadata": {},
   "source": [
    "* **Étape 1.** Définir la variable selon laquelle minimiser    "
   ]
  },
  {
   "cell_type": "code",
   "execution_count": 13,
   "metadata": {},
   "outputs": [],
   "source": [
    "beta = cp.Variable(p)  # p est la taille de la variable, définie ci-dessus"
   ]
  },
  {
   "cell_type": "markdown",
   "metadata": {},
   "source": [
    "* **Étape 2.** Définir la fonction objectif *et les contraintes*"
   ]
  },
  {
   "cell_type": "code",
   "execution_count": 14,
   "metadata": {},
   "outputs": [],
   "source": [
    "L = cp.sum_squares(X @ beta - Y) # L est la fonction ci-dessus "
   ]
  },
  {
   "cell_type": "code",
   "execution_count": 15,
   "metadata": {},
   "outputs": [],
   "source": [
    "contrainte1 = beta >= 0.0"
   ]
  },
  {
   "cell_type": "code",
   "execution_count": 16,
   "metadata": {},
   "outputs": [],
   "source": [
    "contrainte2 = cp.sum(beta) == 1"
   ]
  },
  {
   "cell_type": "markdown",
   "metadata": {},
   "source": [
    "* **Étape 3.** Créer le problème à résoudre *avec les contraintes*"
   ]
  },
  {
   "cell_type": "code",
   "execution_count": 17,
   "metadata": {},
   "outputs": [],
   "source": [
    "objective = cp.Minimize(L) # L'objectif de minimisation de change pas..."
   ]
  },
  {
   "cell_type": "code",
   "execution_count": 18,
   "metadata": {},
   "outputs": [],
   "source": [
    "prob = cp.Problem(objective,constraints=[contrainte1,contrainte2]) # ... mais le problème a des contraintes"
   ]
  },
  {
   "cell_type": "markdown",
   "metadata": {},
   "source": [
    "* **Étape 4.** Le résoudre!"
   ]
  },
  {
   "cell_type": "code",
   "execution_count": 19,
   "metadata": {},
   "outputs": [
    {
     "data": {
      "text/plain": [
       "1386.9323044613075"
      ]
     },
     "execution_count": 19,
     "metadata": {},
     "output_type": "execute_result"
    }
   ],
   "source": [
    "prob.solve()"
   ]
  },
  {
   "cell_type": "markdown",
   "metadata": {},
   "source": [
    "* **Étape 5.** Analyser le résultat"
   ]
  },
  {
   "cell_type": "code",
   "execution_count": 20,
   "metadata": {},
   "outputs": [
    {
     "data": {
      "text/plain": [
       "'optimal'"
      ]
     },
     "execution_count": 20,
     "metadata": {},
     "output_type": "execute_result"
    }
   ],
   "source": [
    "prob.status"
   ]
  },
  {
   "cell_type": "code",
   "execution_count": 21,
   "metadata": {},
   "outputs": [
    {
     "data": {
      "text/plain": [
       "array([-3.65514649e-15, -3.75422915e-15, -3.68662577e-15, -2.88412204e-15,\n",
       "       -2.40949913e-15, -4.67726453e-15, -7.57570062e-15, -2.21860410e-15,\n",
       "        1.00000000e+00, -3.59382444e-15])"
      ]
     },
     "execution_count": 21,
     "metadata": {},
     "output_type": "execute_result"
    }
   ],
   "source": [
    "betaHat2 = beta.value\n",
    "betaHat2"
   ]
  },
  {
   "cell_type": "markdown",
   "metadata": {},
   "source": [
    "Les valeurs sont bien positives (aux erreurs numériques près)"
   ]
  },
  {
   "cell_type": "code",
   "execution_count": 22,
   "metadata": {},
   "outputs": [
    {
     "data": {
      "text/plain": [
       "1.0000000000000058"
      ]
     },
     "execution_count": 22,
     "metadata": {},
     "output_type": "execute_result"
    }
   ],
   "source": [
    "np.sum(betaHat2)"
   ]
  },
  {
   "cell_type": "markdown",
   "metadata": {},
   "source": [
    "La somme des coefficients est bien égale à 1"
   ]
  },
  {
   "cell_type": "markdown",
   "metadata": {},
   "source": [
    "## Variables duales\n",
    "\n",
    "\n",
    "CVXPY retourne également les variables duales associées aux contraintes. `prob.constraints[0].dual_value` contient les variables duales associées à la première contrainte de la liste, `prob.constraints[1].dual_value` celles de la deuxième, etc. "
   ]
  },
  {
   "cell_type": "code",
   "execution_count": 23,
   "metadata": {},
   "outputs": [
    {
     "data": {
      "text/plain": [
       "array([245.1610268 , 322.10754309, 301.80895724, 250.38593205,\n",
       "       110.50509654, 141.27805023, 154.97124138,   0.64628084,\n",
       "         0.        ,  63.4479794 ])"
      ]
     },
     "execution_count": 23,
     "metadata": {},
     "output_type": "execute_result"
    }
   ],
   "source": [
    "lambda1 = prob.constraints[0].dual_value\n",
    "lambda1"
   ]
  },
  {
   "cell_type": "code",
   "execution_count": 24,
   "metadata": {},
   "outputs": [
    {
     "name": "stdout",
     "output_type": "stream",
     "text": [
      "value \t dual of constraint 1\n",
      "-0.0000  \t 245.16\n",
      "-0.0000  \t 322.11\n",
      "-0.0000  \t 301.81\n",
      "-0.0000  \t 250.39\n",
      "-0.0000  \t 110.51\n",
      "-0.0000  \t 141.28\n",
      "-0.0000  \t 154.97\n",
      "-0.0000  \t 0.65\n",
      "1.0000  \t 0.00\n",
      "-0.0000  \t 63.45\n"
     ]
    }
   ],
   "source": [
    "print(\"value \\t dual of constraint 1\")\n",
    "for i in range(p):\n",
    "    print(\"{:2.4f}  \\t {:4.2f}\".format(betaHat2[i],lambda1[i]))"
   ]
  },
  {
   "cell_type": "code",
   "execution_count": 25,
   "metadata": {},
   "outputs": [
    {
     "data": {
      "text/plain": [
       "array(185.28667153)"
      ]
     },
     "execution_count": 25,
     "metadata": {},
     "output_type": "execute_result"
    }
   ],
   "source": [
    "prob.constraints[1].dual_value"
   ]
  }
 ],
 "metadata": {
  "kernelspec": {
   "display_name": "Python 3",
   "language": "python",
   "name": "python3"
  },
  "language_info": {
   "codemirror_mode": {
    "name": "ipython",
    "version": 3
   },
   "file_extension": ".py",
   "mimetype": "text/x-python",
   "name": "python",
   "nbconvert_exporter": "python",
   "pygments_lexer": "ipython3",
   "version": "3.8.10"
  },
  "varInspector": {
   "cols": {
    "lenName": 16,
    "lenType": 16,
    "lenVar": 40
   },
   "kernels_config": {
    "python": {
     "delete_cmd_postfix": "",
     "delete_cmd_prefix": "del ",
     "library": "var_list.py",
     "varRefreshCmd": "print(var_dic_list())"
    },
    "r": {
     "delete_cmd_postfix": ") ",
     "delete_cmd_prefix": "rm(",
     "library": "var_list.r",
     "varRefreshCmd": "cat(var_dic_list()) "
    }
   },
   "types_to_exclude": [
    "module",
    "function",
    "builtin_function_or_method",
    "instance",
    "_Feature"
   ],
   "window_display": false
  }
 },
 "nbformat": 4,
 "nbformat_minor": 1
}
